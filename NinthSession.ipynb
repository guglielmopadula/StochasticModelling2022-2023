{
 "cells": [
  {
   "cell_type": "markdown",
   "id": "a97ac065",
   "metadata": {},
   "source": [
    "# Ninth Session of Stochastic Modelling\n",
    "\n",
    "[![Open in Colab](https://colab.research.google.com/assets/colab-badge.svg)](https://colab.research.google.com/github/guglielmopadula/StochasticModelling2022-2023/blob/main/NinthSession.ipynb)\n",
    "\n",
    "## A very fast recap on convergence on DTMC + convergence of CTMC\n",
    "\n",
    "Remember that from a DTMC the number of steady states distribution and the convergence of a DTMC is completely determined by it's eigenvalues.\n",
    "\n",
    "$$\\begin{array}{ |c|c|c| } \n",
    " \\hline\n",
    "  & \\{i \\text{ s.t } \\lambda_{i}\\neq 1 \\wedge ||\\lambda_{i}||_{2}=1  \\}|=0 & \\{i \\text{ s.t } \\lambda_{i}\\neq 1 \\wedge ||\\lambda_{i}||_{2}=1  \\}|>0 \\\\\n",
    " \\hline\n",
    " |\\{i \\text{ s.t } \\lambda_{i}=1 \\}|=1 & \\text{Unique steady state (with convergence)} & \\text{Unique steady state (no convergence)} \\\\\n",
    " \\hline\n",
    " |\\{i \\text{ s.t } \\lambda_{i}=1 \\}|>1 & \\text{Infinite number of steady states (with convergence)} & \\text{Infinite number of steady states (no convergence)} \\\\ \n",
    " \\hline\n",
    "\\end{array}$$\n",
    "\n",
    "Notice that for a CTMC of rate matrix $Q$ if we define $\\gamma=\\max_{i}-q_{ii}$ we have that $$P=I+\\frac{Q}{\\gamma}$$:\n",
    "- has all the rows that sum to 1\n",
    "- $p_{ij}=1+\\frac{q_{ij}}{\\gamma}>1+(-1)\\ge 0$\n",
    "\n",
    "So $P$ is a stochastic matrix and defines a DTMC.\n",
    "Also basic linear algebra tells us that $\\lambda_{Q}=\\gamma(\\lambda_{P}-1)$.\n",
    "As we know that the $||\\lambda_p||\\le 1$, this tells us two facts:\n",
    "- if $\\lambda_{p}\\neq 1 $ then $Re(\\lambda_{Q})=Re(\\gamma(\\lambda_{P}-1))=Re(\\lambda_{P}-1)=Re(\\lambda_{P})-1<0$\n",
    "- if $\\lambda_{p}=1$ then $\\lambda_{Q}=0$\n",
    "\n",
    "Also rescaling and adding identity matrix preserves the eigenspaces. So we can prove in a similar way to what we have done in Lab 4 that:\n",
    "\n",
    "***The probability of a CTMC always converges***\n",
    "\n",
    "Regarding the number of steady state of a CTMC:\n",
    "- If there is only one eigenvalue of value 0, then there is only one steady state\n",
    "- If there are more then one eigenvalues of value 0, then there are an infinite number of steady states"
   ]
  },
  {
   "cell_type": "markdown",
   "id": "1ce52fa0",
   "metadata": {},
   "source": [
    "## Population Continous time markov models\n",
    "\n",
    "\n",
    "A population CTMC model is a tuple $\\mathcal{X}=\\left(\\mathbf{X}, \\mathcal{D}, \\mathcal{T}, \\mathbf{x}_0\\right)$, where:\n",
    "- $\\mathbf{X}$ - vector of variables counting how many individuals in each state.\n",
    "- $\\mathcal{D}$ state space.\n",
    "- $\\mathbf{x}_0 \\in \\mathcal{D}$ is the initial state.\n",
    "- $\\eta_i \\in \\mathcal{T}$ - global transitions: $\\eta_i=(a, \\mathbf{v}, r(\\mathbf{X}))$\n",
    "  - a-event name (optional).\n",
    "  - $\\mathbf{v} \\in \\mathbb{R}^n$ - update vector (from $\\mathbf{X}$ to $\\mathbf{X}+\\mathbf{v}$ )\n",
    "  - $r: \\mathcal{D} \\rightarrow \\mathbb{R}_{\\geq 0}$ - rate function.\n",
    "  \n",
    "Example:\n",
    "People exiting from the DEUX because it is being closed. Only two states: in the deux (state A), outside the deux (state B). Let's also suppose that the rate of exiting is proportional to $A$.\n",
    "We should write $$ A\\rightarrow B,\\quad k_{1}*A$$ or by using the definition\n",
    "$$(AtoB,(-1,1),k_{1}*A)$$\n",
    "\n",
    "There are two ways to simulate these models that you have seen:\n",
    "- compute the mean field approximation and use the ode (only if the system can be normalizable)\n",
    "- solve using gillespie\n",
    "\n",
    "There is a package called tellurium that permits to do both of this things very easy."
   ]
  },
  {
   "cell_type": "markdown",
   "id": "79021a6d",
   "metadata": {},
   "source": [
    "Let's suppose $A_{0}=100, B_{0}=0$, $k_{1}=0.1$"
   ]
  },
  {
   "cell_type": "code",
   "execution_count": null,
   "id": "37dab5d4",
   "metadata": {},
   "outputs": [],
   "source": [
    "!apt-get install libncurses5\n",
    "!pip install -q tellurium==2.2.8\n",
    "##NOW RESTART THE RUNTIME"
   ]
  },
  {
   "cell_type": "code",
   "execution_count": null,
   "id": "354e8407",
   "metadata": {},
   "outputs": [],
   "source": [
    "#ctmc\n",
    "import numpy as np\n",
    "import tellurium as te\n",
    "import matplotlib.pyplot as plt\n",
    "num_samples=500\n",
    "num_steps=100\n",
    "maxtime=50\n",
    "color=[\"red\",\"blue\"]\n",
    "\n",
    "model='A -> B; k1*A; k1 = 0.1; A = 100'\n",
    "\n",
    "\n",
    "def solver_plotter(model,color,num_samples,num_steps,maxtime):\n",
    "    r = te.loada(model)\n",
    "    r.integrator = 'gillespie'\n",
    "    r.integrator.seed = 1234\n",
    "    r.integrator.variable_step_size = False\n",
    "    names=[\"time\"]+r.getBoundarySpeciesIds() + r.getFloatingSpeciesIds()\n",
    "    num_steps=100\n",
    "    s_sim=np.zeros((num_samples,num_steps,len(names)))\n",
    "\n",
    "\n",
    "    for k in range(num_samples):\n",
    "        r.resetToOrigin()\n",
    "        s_sim[k] = r.simulate(0, maxtime,num_steps)\n",
    "\n",
    "    r = te.loada(model)\n",
    "    s=r.simulate(0, maxtime, num_steps)\n",
    "\n",
    "    \n",
    "    s_min=np.min(s_sim,axis=0)\n",
    "    s_max=np.max(s_sim,axis=0)\n",
    "    for i in range(1,len(names)):\n",
    "        plt.plot(s_min[:,0],s_min[:,i], alpha=0.1,color=color[i-1])\n",
    "        plt.plot(s_max[:,0],s_max[:,i], alpha=0.1,color=color[i-1],label=names[i])\n",
    "        plt.fill_between(s_min[:,0],s_min[:,i],s_max[:,i],alpha=0.1,facecolor=color[i-1])\n",
    "        plt.plot(s[:,0],s[:,i],color=color[i-1],label=names[i]+\" (mean field)\")\n",
    "\n",
    "    plt.legend()\n",
    "    plt.show()\n",
    "    return s, s_sim\n",
    "\n",
    "a,b=solver_plotter(model,color,num_steps,num_samples,maxtime)\n"
   ]
  },
  {
   "cell_type": "markdown",
   "id": "54f36ec7",
   "metadata": {},
   "source": [
    "### Exercise\n",
    "Implement and plot the sir model\n",
    "- $S+I\\rightarrow I+I, \\beta*S*I/N$\n",
    "- $I\\rightarrow R, \\alpha*I$\n",
    "\n",
    "Suppose $I_{0}=1$, $S_{0}=99$, $N=100$, $R_{0}=0$, $\\alpha=0.1$, $\\beta=0.1$\n",
    " \n",
    "### Solution"
   ]
  },
  {
   "cell_type": "code",
   "execution_count": null,
   "id": "0ef1e539",
   "metadata": {},
   "outputs": [],
   "source": []
  },
  {
   "cell_type": "code",
   "execution_count": null,
   "id": "9aed1cb9",
   "metadata": {},
   "outputs": [],
   "source": []
  }
 ],
 "metadata": {
  "kernelspec": {
   "display_name": "Python 3 (ipykernel)",
   "language": "python",
   "name": "python3"
  },
  "language_info": {
   "codemirror_mode": {
    "name": "ipython",
    "version": 3
   },
   "file_extension": ".py",
   "mimetype": "text/x-python",
   "name": "python",
   "nbconvert_exporter": "python",
   "pygments_lexer": "ipython3",
   "version": "3.10.6"
  }
 },
 "nbformat": 4,
 "nbformat_minor": 5
}
