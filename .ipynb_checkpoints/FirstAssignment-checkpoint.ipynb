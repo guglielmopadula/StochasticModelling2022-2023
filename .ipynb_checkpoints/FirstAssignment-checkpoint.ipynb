{
 "cells": [
  {
   "cell_type": "markdown",
   "id": "c33dbae3",
   "metadata": {},
   "source": [
    "# First SDMS Assignment\n",
    "## Deadine: 13/04/2023\n",
    "[![Open in Colab](https://colab.research.google.com/assets/colab-badge.svg)](https://colab.research.google.com/github/guglielmopadula/StochasticModelling2022-2023/blob/main/FirstAssignment.ipynb)\n",
    "\n",
    "### Exercise 0 (Optional)\n",
    "Prove that $$P(Y_{i}\\ge X_{i})=1 \\quad \\forall i=1...n$$ \n",
    "\n",
    "\n",
    "### Exercise 1: Monte Carlo Integration\n",
    "As I already said in the first lab, let $X$ a random variable and $G$ a function such that $Var(G(X))< +\\infty$ then if $x_{1},....,x_{n}$ are a sample from $X$ then $\\lim \\limits_{n\\rightarrow +\\infty} \\frac{1}{n}\\sum\\limits_{i=1}^{n} G(x_{i})=E[G(X)]$ \n",
    "\n",
    "All the 2D triangles with a vertex in the origin can be described by a quadruple $P=(A,B,C,D)\\in \\mathbb{R}^{4}$ where $(A,B)$ and $(C,D)$ are the coordinates in the $XY$ plane of the other two vertices. \n",
    "\n",
    "It can be proven that with this parametrization the area of a triangle is $$Area(P)=\\frac{1}{2}|A*D-B*C|=\\frac{1}{2}|(A,B)\\times (C,D)|$$ where $\\times$ is the cross-product.\n",
    "\n",
    "Assume that $$A\\sim Beta(1,1)$$\n",
    "$$B\\sim Beta(1,1)$$\n",
    "$$C\\sim Beta(1,1)$$\n",
    "$$D\\sim Beta(1,1)$$\n",
    "and that $A,B,C,D$ are completely independent (so you can simply sample each other independently).\n",
    "\n",
    "Exercise: \n",
    "- 1) estimate $Area(P)$ using Monte Carlo Integration. You can sample from a beta distribution using scipy.stats.beta\n",
    "- 2) (optional, you can also do this and not do 1.) the monte carlo estimation of $Area(P)$ can be calculated in only line of code (imports excluded) using numpy vectorization, try to do it. \n",
    "- 3) (optional, do only if you did both points 1. and 2.) compare the time of execution of your implementations using the function time from the python module time. Do the comparison with $n=50$, $n=500$, $n=5000$, $n=50000$.\n",
    "- 4) (optional) prove that $Var(Area(P))< +\\infty$\n",
    "\n",
    "\n",
    "### Exercise 2: \n",
    "Let's take the Cow-Vegetation model with $r=1,k=10,\\beta=1,V_{0}=1$, i.e\n",
    "$$\\dot{X}=X\\left(1-\\frac{X}{100}\\right)-H\\left(\\frac{X^{2}}{X^{2}+1}\\right)$$ where $H$ is the number of cows.\n",
    "For the values of $H=1,2,3$ do the simulation with using a sequence of starting points from $0$ to $10$ (use at least $100$ intermediate points) until $t=10$ and try to understand how many equibrium points there are for each value of $H$, if they are stable or unstable and try to estimate their numerical value by looking at the graph (a nonprecise estimate is ok). Feel free to recycle my class for basic Continous Dinamical 1d systems.\n",
    "\n",
    "### Exercise 3:\n",
    "Study the following dynamical system:\n",
    "$$y_{n+1}=0.5\\left(y_n^2-3 y_{n}+6\\right)$$ for starting points $y_{0}$ which range from $1$ to $3$  (use at least $100$ intermediate points) until $t=10$ and try to understand how many equibrium points there are, if they are stable or unstable and try to estimate their numerical value by looking at the graph (a nonprecise estimate is ok). Feel free to recycle my class for basic Discrete Dinamical 1d systems."
   ]
  },
  {
   "cell_type": "code",
   "execution_count": null,
   "id": "1dd719c4",
   "metadata": {},
   "outputs": [],
   "source": []
  }
 ],
 "metadata": {
  "kernelspec": {
   "display_name": "Python 3 (ipykernel)",
   "language": "python",
   "name": "python3"
  },
  "language_info": {
   "codemirror_mode": {
    "name": "ipython",
    "version": 3
   },
   "file_extension": ".py",
   "mimetype": "text/x-python",
   "name": "python",
   "nbconvert_exporter": "python",
   "pygments_lexer": "ipython3",
   "version": "3.10.6"
  }
 },
 "nbformat": 4,
 "nbformat_minor": 5
}
