{
 "cells": [
  {
   "cell_type": "markdown",
   "id": "a97ac065",
   "metadata": {},
   "source": [
    "# Eleventh Session of Stochastic Modelling\n",
    "\n",
    "[![Open in Colab](https://colab.research.google.com/assets/colab-badge.svg)](https://colab.research.google.com/github/guglielmopadula/StochasticModelling2022-2023/blob/main/EleventhSession.ipynb)\n",
    "\n",
    "## A very fast recap on the Euler Maruyama algorithm\n",
    "\n",
    "In the previous lab we saw that $$W_{t}=\\lim\\limits_{n\\rightarrow+\\infty}\\sum\\limits _{i=1}^{n}\\xi_{i}^{n}:=\\int\\limits_{0}^{t} dW$$\n",
    "where $$\\xi_{i}^{n}\\sim Normal(0,\\frac{t}{n})$$\n",
    "Simulating form $W_{t}$ was particularly fast because of the indipendence of increments property.\n",
    "Let's now study more general SDE\n",
    "$$dX=a(X,t)dt+b(X,t)dW$$\n",
    "\n",
    "- recursively define $Y_n$ for $0 \\leq n \\leq N-1$ by\n",
    "$$\n",
    "Y_{n+1}=Y_n+a\\left(Y_n, \\tau_n\\right) \\Delta t+b\\left(Y_n, \\tau_n\\right) \\Delta W_n\n",
    "$$\n",
    "Notice that the indipendence of increments property does not hold anymore, so we can't vectorize the code anymore."
   ]
  },
  {
   "cell_type": "markdown",
   "id": "1ce52fa0",
   "metadata": {},
   "source": [
    "## Exercise \n",
    "1) Write the code of the Euler Maruyama method, in a way it works also vectorized with $m$ samples.\n",
    "2) Write a function that takes the number of samples $m$ and the number of discretization points $N=10000$ and return $m=1000$ samples on of the 2D parametrized stochastic differential equation $$dX=\\begin{bmatrix} 0 & 1 \\\\ -1 & 0 \\end{bmatrix}Xdt+\\sigma dW$$ with $\\sigma=0,2,3$, starting from $X_{0}=1$ with $t_{0}=1$ to $t_{f}=10$. Plot the mean of the samples.\n",
    "3) Write a function that takes the number of samples $m$ and the number of discretization points $N=10000$ and return $m=1000$ samples on of the 1D parametrized stochastic differential equation $$dX=-Xdt+\\sigma (2+sin(X)) dW$$ with $\\sigma=0,0.01,0.05$,starting from $X_{0}=1$ with $t_{0}=1$ to $t_{f}=10$. Plot the mean of the samples.\n"
   ]
  }
 ],
 "metadata": {
  "kernelspec": {
   "display_name": "Python 3 (ipykernel)",
   "language": "python",
   "name": "python3"
  },
  "language_info": {
   "codemirror_mode": {
    "name": "ipython",
    "version": 3
   },
   "file_extension": ".py",
   "mimetype": "text/x-python",
   "name": "python",
   "nbconvert_exporter": "python",
   "pygments_lexer": "ipython3",
   "version": "3.10.6"
  }
 },
 "nbformat": 4,
 "nbformat_minor": 5
}
