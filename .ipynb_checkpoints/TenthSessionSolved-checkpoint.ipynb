{
 "cells": [
  {
   "cell_type": "markdown",
   "id": "a97ac065",
   "metadata": {},
   "source": [
    "# Tenth Session of Stochastic Modelling\n",
    "\n",
    "[![Open in Colab](https://colab.research.google.com/assets/colab-badge.svg)](https://colab.research.google.com/github/guglielmopadula/StochasticModelling2022-2023/blob/main/TenthSession.ipynb)\n",
    "\n",
    "## A very fast recap on Wiener Process\n",
    "\n",
    "A Wiener process $X_{t}$ is continous time continous space stochastic process such that:\n",
    "- $X_{0}=0$\n",
    "- $X_{t+u}-X_{t}$ is independent from $W_{t}$ $\\forall u\\ge 0$\n",
    "- $X_{t+u}-X_{t} \\sim Normal(0,u)$\n",
    "- $X_{t}$ is continous in $t$\n",
    "\n",
    "Question time!! How could we sample from it?\n",
    "\n",
    "Answer: ...... in fact note that let \n",
    "$$\\{t_{0}=0,.t_{i}=\\frac{i*t}{n}...,t_{n}=t\\}$$ \n",
    "Then $X_{t}=\\sum\\limits_{i=1}^{n}X_{t_{i}}-X_{t_{i-1}}$.\n",
    "But $$X_{t_{i}}-X_{t_{i-1}}\\sim Normal(t_{i}-t_{i-1})\\sim Normal(0,\\frac{t}{n})$$.\n",
    "\n",
    "Taking the limit we have\n",
    "$$X_{t}=\\lim\\limits_{n\\rightarrow+\\infty}\\sum\\limits _{i=1}^{n}\\xi_{i}^{n}$$\n",
    "where $\\xi_{i}^{n}\\sim Normal(0,\\frac{t}{n})$.\n",
    "\n"
   ]
  },
  {
   "cell_type": "markdown",
   "id": "1ce52fa0",
   "metadata": {},
   "source": [
    "## Exercise \n",
    "1) Write a function that takes the number of samples $m$ and the number of discretization points $N=n+1$ and return $m$ samples on a Wiener process on the discretization points using only numpy in at most three lines of code. Let's take for simplicity $t=1$.\n",
    "\n",
    "2) Write a function that takes the number of samples $m$ and the number of discretization points $n$ ($0$ excluded) and return $m$ samples and returns the sample covariance matrix using only numpy in at most three lines of code. You can use the function of the previous point.\n",
    "3) Write a function that s the number of samples $m$ and the number of discretization points $n$  and returns the error between the sample covariance matrix and the covariance matrix, \n",
    "4) Plot the error of the sample covariance matrix with increasing $m$ and $N=10$\n",
    "3) Plot $M=100$ samples of a wiener process with $N=1000$"
   ]
  },
  {
   "cell_type": "code",
   "execution_count": 43,
   "id": "8c6796ab",
   "metadata": {},
   "outputs": [
    {
     "data": {
      "image/png": "[encoded data removed]",
      "text/plain": [
       "<Figure size 640x480 with 1 Axes>"
      ]
     },
     "metadata": {},
     "output_type": "display_data"
    }
   ],
   "source": [
    "import numpy as np\n",
    "def sample_wiener(m,N):\n",
    "    n=N-1\n",
    "    xi=np.random.randn(n,m)*(1/np.sqrt(n))\n",
    "    w=np.cumsum(xi,axis=0)\n",
    "    w=np.concatenate((np.zeros((1,m)),w))\n",
    "    return w\n",
    "\n",
    "\n",
    "def sample_covariance(m,N):\n",
    "    w=sample_wiener(m,N)\n",
    "    matrix=np.cov(w)\n",
    "    return matrix\n",
    "\n",
    "def error_covariance(m,N):\n",
    "    s=sample_covariance(m,N)\n",
    "    temp=np.linspace(np.zeros(N),np.ones(N),N)\n",
    "    temp=np.minimum(temp,temp.T)\n",
    "    err=s-temp\n",
    "    return np.linalg.norm(err)\n",
    "\n",
    "\n",
    "N=10\n",
    "mvec=[50,100,1000,10000,100000,1000000]\n",
    "\n",
    "\n",
    "err=np.zeros_like(mvec,dtype=np.float32)\n",
    "for i in range(len(mvec)):\n",
    "    err[i]=error_covariance(mvec[i],N)\n",
    "import matplotlib.pyplot as plt\n",
    "plt.plot(mvec,err)\n",
    "\n",
    "w=sample_wiener(100,1000)\n",
    "t=np.linspace(0,1,1000)\n",
    "for i in range(100):\n",
    "    plt.plot(t,w[:,0])"
   ]
  },
  {
   "cell_type": "code",
   "execution_count": null,
   "id": "32c4f627",
   "metadata": {},
   "outputs": [],
   "source": []
  }
 ],
 "metadata": {
  "kernelspec": {
   "display_name": "Python 3 (ipykernel)",
   "language": "python",
   "name": "python3"
  },
  "language_info": {
   "codemirror_mode": {
    "name": "ipython",
    "version": 3
   },
   "file_extension": ".py",
   "mimetype": "text/x-python",
   "name": "python",
   "nbconvert_exporter": "python",
   "pygments_lexer": "ipython3",
   "version": "3.10.6"
  }
 },
 "nbformat": 4,
 "nbformat_minor": 5
}
