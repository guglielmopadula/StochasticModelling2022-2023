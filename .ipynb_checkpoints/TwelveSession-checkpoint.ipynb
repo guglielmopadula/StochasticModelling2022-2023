{
 "cells": [
  {
   "cell_type": "markdown",
   "metadata": {
    "id": "IXuK_AUg-a7z"
   },
   "source": [
    "## Twelve Session of Stochastic Modelling\n",
    "\n",
    "[![Open in Colab](https://colab.research.google.com/assets/colab-badge.svg)](https://colab.research.google.com/github/guglielmopadula/StochasticModelling2022-2023/blob/main/TwelveSession.ipynb)\n",
    "\n",
    "\n",
    "## Introduction of Bayesian Inference and Pyro\n",
    "\n",
    "In bayesian inference we are given a likehood\n",
    "$p(y_{1},...,y_{n}|\\theta)$ and a prior $p(\\theta)$, which represents out actual knowledge around $\\theta$ and we want to estimate $$\\theta_{MAP}=\\arg \\max_{\\theta} p(\\theta|y)∝ p(y|\\theta)p(\\theta)$$\n",
    "\n",
    "For a markov process we have\n",
    "$p(y_{1},...,y_{n}|\\theta)=p(y_{n}|y_{n-1}\\theta)*p(y_{n-1}|y_{n-2}\\theta)...*p(y_{2}|y_{1}\\theta)*p(y_{1}|\\theta)p(\\theta)$\n",
    "If we want to sample, the smartest thing to do is:\n",
    "- sample $\\theta$ from $p(\\theta)$\n",
    "- sample $y_{1}$ from $p(y_{1}|\\theta)$.\n",
    "- sample $y_{2}$ from $p(y_{2}|\\theta,y_{1})$.\n",
    "- ....\n",
    "- sample $y_{n}$ from $p(y_{n}|\\theta,y_{n-2})$\n",
    "\n",
    "###DTMC\n",
    "$\\theta$ is our $m \\times m$ transition matrix. \n",
    "We have that $$p(y_{n}|y_{n-1},\\theta)=\\theta_{y_{n-1},y_{n}}$$\n",
    "We need a prior that samples a probability. This prior is called Dirichlet and it's parameters are $\\alpha_{1}>1,...,\\alpha_{m}>1$, this distribution is highly technical and we will not see it.\n",
    "The lower the parameter prior are, the more the prior is uninformative and the more the MAP will be similar to the MLE.\n",
    "\n",
    "###CTMC\n",
    "A CTMC parametrized by a $m \\times m$ transition matrix $\\theta$  and a $m$ vector $\\lambda$  can be seen as a sequence of tuples $(t_{1},Y_{t_{1}}),(t_{2},Y_{t_{2}})$ where $Y_{t_{i}}=X_{i}$ and $X_{n}$ is a DTMC with matrix $\\theta$ and $t_{n+1}-t_{n}\\sim Exp({\\lambda_{X_{n}}})$.\n",
    "We need a prior for $\\theta$, for which we use a Dirichlet again, but also a prior for $\\lambda$, which must have a positive support, for reasons that go beyond the scope of this course, a Gamma distribution with parameters $\\alpha,\\beta$ is a good choice.\n",
    "\n",
    "### SDE\n",
    "We saw that an sde can be approximated with\n",
    "$$X_{n+1}=f(X_{n},t_{n},\\theta)+g(X_{n},t_{n},\\theta)\\epsilon$$, where $$\\epsilon \\sim Normal(0,1)$$, \n",
    "so $$X_{n+1}\\sim Normal(X{t}+f(X_{n},t_{n},\\theta)*\\Delta t,g(X_{n},t_{n},\\theta)^{2})$$\n",
    "\n",
    "A library for computing $\\theta_{MAP}$ (an not only that) given the sequence of samples to do is called numpyro, which is based on JAX."
   ]
  },
  {
   "cell_type": "code",
   "execution_count": 1,
   "metadata": {
    "colab": {
     "base_uri": "https://localhost:8080/"
    },
    "id": "1PqT_j5dGaoE",
    "outputId": "c3c97bcb-faa5-403f-e775-401c4ec390ea"
   },
   "outputs": [
    {
     "name": "stdout",
     "output_type": "stream",
     "text": [
      "Collecting pyro-ppl\n",
      "  Downloading pyro_ppl-1.8.4-py3-none-any.whl (730 kB)\n",
      "\u001b[2K     \u001b[38;2;114;156;31m━━━━━━━━━━━━━━━━━━━━━━━━━━━━━━━━━━━━━━━\u001b[0m \u001b[32m730.7/730.7 KB\u001b[0m \u001b[31m6.7 MB/s\u001b[0m eta \u001b[36m0:00:00\u001b[0mm eta \u001b[36m0:00:01\u001b[0m0:01\u001b[0m\n",
      "\u001b[?25hCollecting opt-einsum>=2.3.2\n",
      "  Downloading opt_einsum-3.3.0-py3-none-any.whl (65 kB)\n",
      "\u001b[2K     \u001b[38;2;114;156;31m━━━━━━━━━━━━━━━━━━━━━━━━━━━━━━━━━━━━━━━━\u001b[0m \u001b[32m65.5/65.5 KB\u001b[0m \u001b[31m7.4 MB/s\u001b[0m eta \u001b[36m0:00:00\u001b[0m\n",
      "\u001b[?25hCollecting pyro-api>=0.1.1\n",
      "  Downloading pyro_api-0.1.2-py3-none-any.whl (11 kB)\n",
      "Collecting torch>=1.11.0\n",
      "  Downloading torch-2.0.1-cp310-cp310-manylinux1_x86_64.whl (619.9 MB)\n",
      "\u001b[2K     \u001b[38;2;114;156;31m━━━━━━━━━━━━━━━━━━━━━━━━━━━━━━━━━━━━━━━\u001b[0m \u001b[32m619.9/619.9 MB\u001b[0m \u001b[31m4.7 MB/s\u001b[0m eta \u001b[36m0:00:00\u001b[0mm eta \u001b[36m0:00:01\u001b[0m[36m0:00:01\u001b[0m\n",
      "\u001b[?25hRequirement already satisfied: numpy>=1.7 in /home/cyberguli/stoch_venv/lib/python3.10/site-packages (from pyro-ppl) (1.24.3)\n",
      "Requirement already satisfied: tqdm>=4.36 in /home/cyberguli/stoch_venv/lib/python3.10/site-packages (from pyro-ppl) (4.65.0)\n",
      "Collecting nvidia-cuda-cupti-cu11==11.7.101\n",
      "  Downloading nvidia_cuda_cupti_cu11-11.7.101-py3-none-manylinux1_x86_64.whl (11.8 MB)\n",
      "\u001b[2K     \u001b[38;2;114;156;31m━━━━━━━━━━━━━━━━━━━━━━━━━━━━━━━━━━━━━━━━\u001b[0m \u001b[32m11.8/11.8 MB\u001b[0m \u001b[31m33.5 MB/s\u001b[0m eta \u001b[36m0:00:00\u001b[0mm eta \u001b[36m0:00:01\u001b[0m0:01\u001b[0m01\u001b[0m\n",
      "\u001b[?25hCollecting nvidia-nccl-cu11==2.14.3\n",
      "  Downloading nvidia_nccl_cu11-2.14.3-py3-none-manylinux1_x86_64.whl (177.1 MB)\n",
      "\u001b[2K     \u001b[38;2;114;156;31m━━━━━━━━━━━━━━━━━━━━━━━━━━━━━━━━━━━━━━\u001b[0m \u001b[32m177.1/177.1 MB\u001b[0m \u001b[31m11.6 MB/s\u001b[0m eta \u001b[36m0:00:00\u001b[0mm eta \u001b[36m0:00:01\u001b[0m[36m0:00:01\u001b[0m\n",
      "\u001b[?25hCollecting nvidia-curand-cu11==10.2.10.91\n",
      "  Downloading nvidia_curand_cu11-10.2.10.91-py3-none-manylinux1_x86_64.whl (54.6 MB)\n",
      "\u001b[2K     \u001b[38;2;114;156;31m━━━━━━━━━━━━━━━━━━━━━━━━━━━━━━━━━━━━━━━━\u001b[0m \u001b[32m54.6/54.6 MB\u001b[0m \u001b[31m21.1 MB/s\u001b[0m eta \u001b[36m0:00:00\u001b[0mm eta \u001b[36m0:00:01\u001b[0m0:01\u001b[0m:01\u001b[0m\n",
      "\u001b[?25hCollecting typing-extensions\n",
      "  Downloading typing_extensions-4.6.2-py3-none-any.whl (31 kB)\n",
      "Collecting nvidia-cusparse-cu11==11.7.4.91\n",
      "  Downloading nvidia_cusparse_cu11-11.7.4.91-py3-none-manylinux1_x86_64.whl (173.2 MB)\n",
      "\u001b[2K     \u001b[38;2;114;156;31m━━━━━━━━━━━━━━━━━━━━━━━━━━━━━━━━━━━━━━\u001b[0m \u001b[32m173.2/173.2 MB\u001b[0m \u001b[31m12.2 MB/s\u001b[0m eta \u001b[36m0:00:00\u001b[0mm eta \u001b[36m0:00:01\u001b[0m[36m0:00:01\u001b[0m\n",
      "\u001b[?25hCollecting nvidia-cudnn-cu11==8.5.0.96\n",
      "  Downloading nvidia_cudnn_cu11-8.5.0.96-2-py3-none-manylinux1_x86_64.whl (557.1 MB)\n",
      "\u001b[2K     \u001b[38;2;114;156;31m━━━━━━━━━━━━━━━━━━━━━━━━━━━━━━━━━━━━━━━\u001b[0m \u001b[32m557.1/557.1 MB\u001b[0m \u001b[31m4.8 MB/s\u001b[0m eta \u001b[36m0:00:00\u001b[0mm eta \u001b[36m0:00:01\u001b[0m[36m0:00:01\u001b[0m\n",
      "\u001b[?25hCollecting nvidia-nvtx-cu11==11.7.91\n",
      "  Downloading nvidia_nvtx_cu11-11.7.91-py3-none-manylinux1_x86_64.whl (98 kB)\n",
      "\u001b[2K     \u001b[38;2;114;156;31m━━━━━━━━━━━━━━━━━━━━━━━━━━━━━━━━━━━━━━━━\u001b[0m \u001b[32m98.6/98.6 KB\u001b[0m \u001b[31m28.4 MB/s\u001b[0m eta \u001b[36m0:00:00\u001b[0m\n",
      "\u001b[?25hCollecting nvidia-cufft-cu11==10.9.0.58\n",
      "  Downloading nvidia_cufft_cu11-10.9.0.58-py3-none-manylinux1_x86_64.whl (168.4 MB)\n",
      "\u001b[2K     \u001b[38;2;114;156;31m━━━━━━━━━━━━━━━━━━━━━━━━━━━━━━━━━━━━━━\u001b[0m \u001b[32m168.4/168.4 MB\u001b[0m \u001b[31m11.0 MB/s\u001b[0m eta \u001b[36m0:00:00\u001b[0mm eta \u001b[36m0:00:01\u001b[0m[36m0:00:01\u001b[0m\n",
      "\u001b[?25hCollecting nvidia-cuda-runtime-cu11==11.7.99\n",
      "  Downloading nvidia_cuda_runtime_cu11-11.7.99-py3-none-manylinux1_x86_64.whl (849 kB)\n",
      "\u001b[2K     \u001b[38;2;114;156;31m━━━━━━━━━━━━━━━━━━━━━━━━━━━━━━━━━━━━━━\u001b[0m \u001b[32m849.3/849.3 KB\u001b[0m \u001b[31m27.4 MB/s\u001b[0m eta \u001b[36m0:00:00\u001b[0m\n",
      "\u001b[?25hCollecting filelock\n",
      "  Downloading filelock-3.12.0-py3-none-any.whl (10 kB)\n",
      "Collecting nvidia-cuda-nvrtc-cu11==11.7.99\n",
      "  Downloading nvidia_cuda_nvrtc_cu11-11.7.99-2-py3-none-manylinux1_x86_64.whl (21.0 MB)\n",
      "\u001b[2K     \u001b[38;2;114;156;31m━━━━━━━━━━━━━━━━━━━━━━━━━━━━━━━━━━━━━━━━\u001b[0m \u001b[32m21.0/21.0 MB\u001b[0m \u001b[31m24.4 MB/s\u001b[0m eta \u001b[36m0:00:00\u001b[0mm eta \u001b[36m0:00:01\u001b[0m0:01\u001b[0m:01\u001b[0m\n",
      "\u001b[?25hCollecting triton==2.0.0\n",
      "  Downloading triton-2.0.0-1-cp310-cp310-manylinux2014_x86_64.manylinux_2_17_x86_64.whl (63.3 MB)\n",
      "\u001b[2K     \u001b[38;2;114;156;31m━━━━━━━━━━━━━━━━━━━━━━━━━━━━━━━━━━━━━━━━\u001b[0m \u001b[32m63.3/63.3 MB\u001b[0m \u001b[31m19.7 MB/s\u001b[0m eta \u001b[36m0:00:00\u001b[0mm eta \u001b[36m0:00:01\u001b[0m0:01\u001b[0m:01\u001b[0m\n",
      "\u001b[?25hCollecting nvidia-cublas-cu11==11.10.3.66\n",
      "  Downloading nvidia_cublas_cu11-11.10.3.66-py3-none-manylinux1_x86_64.whl (317.1 MB)\n",
      "\u001b[2K     \u001b[38;2;114;156;31m━━━━━━━━━━━━━━━━━━━━━━━━━━━━━━━━━━━━━━━\u001b[0m \u001b[32m317.1/317.1 MB\u001b[0m \u001b[31m7.2 MB/s\u001b[0m eta \u001b[36m0:00:00\u001b[0mm eta \u001b[36m0:00:01\u001b[0m[36m0:00:01\u001b[0m\n",
      "\u001b[?25hCollecting sympy\n",
      "  Downloading sympy-1.12-py3-none-any.whl (5.7 MB)\n",
      "\u001b[2K     \u001b[38;2;114;156;31m━━━━━━━━━━━━━━━━━━━━━━━━━━━━━━━━━━━━━━━━\u001b[0m \u001b[32m5.7/5.7 MB\u001b[0m \u001b[31m24.8 MB/s\u001b[0m eta \u001b[36m0:00:00\u001b[0mm eta \u001b[36m0:00:01\u001b[0m[36m0:00:01\u001b[0m\n",
      "\u001b[?25hCollecting networkx\n",
      "  Downloading networkx-3.1-py3-none-any.whl (2.1 MB)\n",
      "\u001b[2K     \u001b[38;2;114;156;31m━━━━━━━━━━━━━━━━━━━━━━━━━━━━━━━━━━━━━━━━\u001b[0m \u001b[32m2.1/2.1 MB\u001b[0m \u001b[31m23.8 MB/s\u001b[0m eta \u001b[36m0:00:00\u001b[0mm eta \u001b[36m0:00:01\u001b[0m0:01\u001b[0m\n",
      "\u001b[?25hRequirement already satisfied: jinja2 in /home/cyberguli/stoch_venv/lib/python3.10/site-packages (from torch>=1.11.0->pyro-ppl) (3.1.2)\n",
      "Collecting nvidia-cusolver-cu11==11.4.0.1\n",
      "  Downloading nvidia_cusolver_cu11-11.4.0.1-2-py3-none-manylinux1_x86_64.whl (102.6 MB)\n",
      "\u001b[2K     \u001b[38;2;114;156;31m━━━━━━━━━━━━━━━━━━━━━━━━━━━━━━━━━━━━━━\u001b[0m \u001b[32m102.6/102.6 MB\u001b[0m \u001b[31m12.9 MB/s\u001b[0m eta \u001b[36m0:00:00\u001b[0mm eta \u001b[36m0:00:01\u001b[0m[36m0:00:01\u001b[0m\n",
      "\u001b[?25hRequirement already satisfied: setuptools in /home/cyberguli/stoch_venv/lib/python3.10/site-packages (from nvidia-cublas-cu11==11.10.3.66->torch>=1.11.0->pyro-ppl) (59.6.0)\n",
      "Collecting wheel\n",
      "  Using cached wheel-0.40.0-py3-none-any.whl (64 kB)\n",
      "Collecting cmake\n",
      "  Downloading cmake-3.26.3-py2.py3-none-manylinux2014_x86_64.manylinux_2_17_x86_64.whl (24.0 MB)\n",
      "\u001b[2K     \u001b[38;2;114;156;31m━━━━━━━━━━━━━━━━━━━━━━━━━━━━━━━━━━━━━━━━\u001b[0m \u001b[32m24.0/24.0 MB\u001b[0m \u001b[31m20.5 MB/s\u001b[0m eta \u001b[36m0:00:00\u001b[0mm eta \u001b[36m0:00:01\u001b[0m[36m0:00:01\u001b[0m\n",
      "\u001b[?25hCollecting lit\n",
      "  Downloading lit-16.0.5.tar.gz (138 kB)\n",
      "\u001b[2K     \u001b[38;2;114;156;31m━━━━━━━━━━━━━━━━━━━━━━━━━━━━━━━━━━━━━━\u001b[0m \u001b[32m138.0/138.0 KB\u001b[0m \u001b[31m23.9 MB/s\u001b[0m eta \u001b[36m0:00:00\u001b[0m\n",
      "\u001b[?25h  Preparing metadata (setup.py) ... \u001b[?25ldone\n",
      "\u001b[?25hRequirement already satisfied: MarkupSafe>=2.0 in /home/cyberguli/stoch_venv/lib/python3.10/site-packages (from jinja2->torch>=1.11.0->pyro-ppl) (2.1.2)\n",
      "Collecting mpmath>=0.19\n",
      "  Downloading mpmath-1.3.0-py3-none-any.whl (536 kB)\n",
      "\u001b[2K     \u001b[38;2;114;156;31m━━━━━━━━━━━━━━━━━━━━━━━━━━━━━━━━━━━━━━\u001b[0m \u001b[32m536.2/536.2 KB\u001b[0m \u001b[31m26.4 MB/s\u001b[0m eta \u001b[36m0:00:00\u001b[0m\n",
      "\u001b[?25hUsing legacy 'setup.py install' for lit, since package 'wheel' is not installed.\n",
      "Installing collected packages: pyro-api, mpmath, lit, cmake, wheel, typing-extensions, sympy, opt-einsum, nvidia-nccl-cu11, nvidia-cufft-cu11, nvidia-cuda-nvrtc-cu11, networkx, filelock, nvidia-nvtx-cu11, nvidia-cusparse-cu11, nvidia-curand-cu11, nvidia-cuda-runtime-cu11, nvidia-cuda-cupti-cu11, nvidia-cublas-cu11, nvidia-cusolver-cu11, nvidia-cudnn-cu11, triton, torch, pyro-ppl\n",
      "  Running setup.py install for lit ... \u001b[?25ldone\n",
      "\u001b[?25hSuccessfully installed cmake-3.26.3 filelock-3.12.0 lit-16.0.5 mpmath-1.3.0 networkx-3.1 nvidia-cublas-cu11-11.10.3.66 nvidia-cuda-cupti-cu11-11.7.101 nvidia-cuda-nvrtc-cu11-11.7.99 nvidia-cuda-runtime-cu11-11.7.99 nvidia-cudnn-cu11-8.5.0.96 nvidia-cufft-cu11-10.9.0.58 nvidia-curand-cu11-10.2.10.91 nvidia-cusolver-cu11-11.4.0.1 nvidia-cusparse-cu11-11.7.4.91 nvidia-nccl-cu11-2.14.3 nvidia-nvtx-cu11-11.7.91 opt-einsum-3.3.0 pyro-api-0.1.2 pyro-ppl-1.8.4 sympy-1.12 torch-2.0.1 triton-2.0.0 typing-extensions-4.6.2 wheel-0.40.0\n"
     ]
    }
   ],
   "source": [
    "!pip install pyro-ppl\n"
   ]
  },
  {
   "cell_type": "markdown",
   "metadata": {
    "id": "j6ea1QwPb56a"
   },
   "source": [
    "## DTMC\n"
   ]
  },
  {
   "cell_type": "markdown",
   "metadata": {
    "id": "8xl3wRvrcRPn"
   },
   "source": [
    "### Maximum likehood estimation"
   ]
  },
  {
   "cell_type": "code",
   "execution_count": 2,
   "metadata": {
    "colab": {
     "base_uri": "https://localhost:8080/",
     "height": 589
    },
    "id": "BEtzDGP46-T9",
    "outputId": "50f35dc4-c7f5-443f-835d-e766b68ae013"
   },
   "outputs": [
    {
     "name": "stderr",
     "output_type": "stream",
     "text": [
      "100%|█████████████████████████████████████████| 100/100 [00:28<00:00,  3.55it/s]"
     ]
    },
    {
     "name": "stdout",
     "output_type": "stream",
     "text": [
      "MLE VALUES ARE\n",
      "tensor([[0.5582, 0.1441, 0.2977],\n",
      "        [0.4745, 0.3131, 0.2124],\n",
      "        [0.7728, 0.1169, 0.1104]])\n",
      "REAL VALUES ARE [[0.56127324 0.12731909 0.31140767]\n",
      " [0.44062379 0.36721539 0.19216082]\n",
      " [0.78867472 0.12564263 0.08568266]]\n"
     ]
    },
    {
     "name": "stderr",
     "output_type": "stream",
     "text": [
      "\n"
     ]
    },
    {
     "data": {
      "text/plain": [
       "[<matplotlib.lines.Line2D at 0x7fcbc0684190>]"
      ]
     },
     "execution_count": 2,
     "metadata": {},
     "output_type": "execute_result"
    },
    {
     "data": {
      "image/png": "[encoded data removed]",
      "text/plain": [
       "<Figure size 640x480 with 1 Axes>"
      ]
     },
     "metadata": {},
     "output_type": "display_data"
    }
   ],
   "source": [
    "import numpy as np\n",
    "import pyro.optim as optim\n",
    "import torch\n",
    "from tqdm import trange\n",
    "import pyro.distributions as dist\n",
    "from pyro.infer import Predictive, SVI, Trace_ELBO\n",
    "from pyro import sample\n",
    "from pyro.infer.autoguide import AutoDelta\n",
    "from pyro.optim import Adam\n",
    "import pyro\n",
    "import matplotlib.pyplot as plt\n",
    "def model(samples):\n",
    "    m=torch.max(samples)+1\n",
    "    with pyro.plate(\"num_states\",m): #this mean sample everything m times\n",
    "      theta=sample(\"theta\", dist.Dirichlet(torch.ones(m)).mask(False)) ### .mask(FALSE) for MLE\n",
    "      ## because we are in a plate of size m, theta will be of shape (m,m)\n",
    "    x0=samples[0]\n",
    "    tmp_old=x0\n",
    "    for i in range(1,len(samples)):\n",
    "      prob=theta[tmp_old]\n",
    "      tmp=sample(\"obs_{}\".format(i), dist.Categorical(prob), obs=samples[i])\n",
    "      tmp_old=tmp\n",
    "def DtmcSimulation(A,p0,n):\n",
    "    if not np.prod(A>=0):\n",
    "        raise Exception(\"Elements are not non negative\")\n",
    "    if not np.prod(np.isclose(np.sum(A,axis=1),np.ones(A.shape[0]))):\n",
    "        raise Exception(\"at least one row does not sum up to 1\")\n",
    "    if not np.isclose(np.sum(p0),1):\n",
    "        raise Exception(\"initial probability does not sum up to 1\")\n",
    "\n",
    "    l=[]\n",
    "    x0=np.random.choice(np.arange(p0.shape[0]),size=1,p=p0)\n",
    "    l.append(x0.item())\n",
    "    x=x0\n",
    "    for i in range(1,n):\n",
    "        p=A[x].reshape(-1)\n",
    "        x=np.random.choice(np.arange(p.shape[0]),size=1,p=p)\n",
    "        l.append(x.item())\n",
    "    return l,A,p0\n",
    "\n",
    "np.random.seed(0)\n",
    "torch.manual_seed(0)\n",
    "A=np.abs(np.random.normal(size=(3,3)))\n",
    "A=(A.T/np.sum(A.T,axis=0)).T\n",
    "p0=np.array([1/3,1/3,1/3])\n",
    "values=DtmcSimulation(A,p0,600)[0]\n",
    "values=torch.tensor(values)\n",
    "\n",
    "m=torch.max(values)+1\n",
    "guide=AutoDelta(model)\n",
    "adam_params = {\"lr\": 0.05, \"betas\": (0.90, 0.999)}\n",
    "optimizer = Adam(adam_params)\n",
    "svi = SVI(model, guide, optimizer, Trace_ELBO())\n",
    "loss=[]\n",
    "for i in trange(100):\n",
    "  loss.append(svi.step(values))\n",
    "\n",
    "print(\"MLE VALUES ARE\")\n",
    "print(guide.median(values)[\"theta\"])\n",
    "\n",
    "\n",
    "print(\"REAL VALUES ARE\", A)\n",
    "plt.plot(np.arange(len(loss)),loss)\n",
    "\n"
   ]
  },
  {
   "cell_type": "markdown",
   "metadata": {
    "id": "9lBeWIqkfbYS"
   },
   "source": [
    "Note that the MLE and our real parameter are pretty similar, better results can be achieved with more iterations."
   ]
  },
  {
   "cell_type": "markdown",
   "metadata": {
    "id": "6JieXWNRflpV"
   },
   "source": [
    "### Weak prior"
   ]
  },
  {
   "cell_type": "code",
   "execution_count": 3,
   "metadata": {
    "colab": {
     "base_uri": "https://localhost:8080/",
     "height": 604
    },
    "id": "LaZMLRaxcM9J",
    "outputId": "218c5c16-6c07-4d95-e2a2-0f2619ce8f2e"
   },
   "outputs": [
    {
     "name": "stderr",
     "output_type": "stream",
     "text": [
      "100%|█████████████████████████████████████████| 100/100 [00:28<00:00,  3.52it/s]"
     ]
    },
    {
     "name": "stdout",
     "output_type": "stream",
     "text": [
      "Weak MAP VALUES ARE\n",
      "tensor([[0.5590, 0.1433, 0.2978],\n",
      "        [0.4748, 0.3131, 0.2121],\n",
      "        [0.7708, 0.1181, 0.1111]])\n",
      "REAL VALUES ARE [[0.56127324 0.12731909 0.31140767]\n",
      " [0.44062379 0.36721539 0.19216082]\n",
      " [0.78867472 0.12564263 0.08568266]]\n"
     ]
    },
    {
     "name": "stderr",
     "output_type": "stream",
     "text": [
      "\n"
     ]
    },
    {
     "data": {
      "text/plain": [
       "[<matplotlib.lines.Line2D at 0x7fcbc05d8700>]"
      ]
     },
     "execution_count": 3,
     "metadata": {},
     "output_type": "execute_result"
    },
    {
     "data": {
      "image/png": "[encoded data removed]",
      "text/plain": [
       "<Figure size 640x480 with 1 Axes>"
      ]
     },
     "metadata": {},
     "output_type": "display_data"
    }
   ],
   "source": [
    "def model(samples):\n",
    "    m=torch.max(samples)+1\n",
    "    with pyro.plate(\"num_states\",m): #this mean sample everything m times\n",
    "      theta=sample(\"theta\", dist.Dirichlet(1*torch.ones(m))) ### very weak prior\n",
    "      ## because we are in a plate of size m, theta will be of shape (m,m)\n",
    "    x0=samples[0]\n",
    "    tmp_old=x0\n",
    "    for i in range(1,len(samples)):\n",
    "      prob=theta[tmp_old]\n",
    "      tmp=sample(\"obs_{}\".format(i), dist.Categorical(prob), obs=samples[i])\n",
    "      tmp_old=tmp\n",
    "def DtmcSimulation(A,p0,n):\n",
    "    if not np.prod(A>=0):\n",
    "        raise Exception(\"Elements are not non negative\")\n",
    "    if not np.prod(np.isclose(np.sum(A,axis=1),np.ones(A.shape[0]))):\n",
    "        raise Exception(\"at least one row does not sum up to 1\")\n",
    "    if not np.isclose(np.sum(p0),1):\n",
    "        raise Exception(\"initial probability does not sum up to 1\")\n",
    "\n",
    "    l=[]\n",
    "    x0=np.random.choice(np.arange(p0.shape[0]),size=1,p=p0)\n",
    "    l.append(x0.item())\n",
    "    x=x0\n",
    "    for i in range(1,n):\n",
    "        p=A[x].reshape(-1)\n",
    "        x=np.random.choice(np.arange(p.shape[0]),size=1,p=p)\n",
    "        l.append(x.item())\n",
    "    return l,A,p0\n",
    "\n",
    "guide=AutoDelta(model)\n",
    "svi = SVI(model, guide, optimizer, Trace_ELBO())\n",
    "loss=[]\n",
    "for i in trange(100):\n",
    "  loss.append(svi.step(values))\n",
    "\n",
    "print(\"Weak MAP VALUES ARE\")\n",
    "print(guide.median(values)[\"theta\"])\n",
    "\n",
    "\n",
    "print(\"REAL VALUES ARE\", A)\n",
    "plt.plot(np.arange(len(loss)),loss)\n",
    "\n"
   ]
  },
  {
   "cell_type": "markdown",
   "metadata": {
    "id": "aMmOKKkFgTj0"
   },
   "source": [
    "Again the results are very similar to the real value."
   ]
  },
  {
   "cell_type": "markdown",
   "metadata": {
    "id": "bBuGIT7Igny2"
   },
   "source": [
    "### Strong prior"
   ]
  },
  {
   "cell_type": "code",
   "execution_count": 4,
   "metadata": {
    "colab": {
     "base_uri": "https://localhost:8080/",
     "height": 589
    },
    "id": "uWACDSZvgqkr",
    "outputId": "3f701996-691e-4829-d392-65cdf08430a0"
   },
   "outputs": [
    {
     "name": "stderr",
     "output_type": "stream",
     "text": [
      "100%|█████████████████████████████████████████| 100/100 [00:28<00:00,  3.54it/s]"
     ]
    },
    {
     "name": "stdout",
     "output_type": "stream",
     "text": [
      "Strong MAP VALUES ARE\n",
      "tensor([[0.3363, 0.3308, 0.3328],\n",
      "        [0.3345, 0.3331, 0.3324],\n",
      "        [0.3370, 0.3317, 0.3313]])\n",
      "REAL VALUES ARE [[0.56127324 0.12731909 0.31140767]\n",
      " [0.44062379 0.36721539 0.19216082]\n",
      " [0.78867472 0.12564263 0.08568266]]\n"
     ]
    },
    {
     "name": "stderr",
     "output_type": "stream",
     "text": [
      "\n"
     ]
    },
    {
     "data": {
      "text/plain": [
       "[<matplotlib.lines.Line2D at 0x7fcbc0361de0>]"
      ]
     },
     "execution_count": 4,
     "metadata": {},
     "output_type": "execute_result"
    },
    {
     "data": {
      "image/png": "[encoded data removed]",
      "text/plain": [
       "<Figure size 640x480 with 1 Axes>"
      ]
     },
     "metadata": {},
     "output_type": "display_data"
    }
   ],
   "source": [
    "def model(samples):\n",
    "    m=torch.max(samples)+1\n",
    "    with pyro.plate(\"num_states\",m): #this mean sample everything m times\n",
    "      theta=sample(\"theta\", dist.Dirichlet(9999*torch.ones(m))) ### very strong prior\n",
    "      ## because we are in a plate of size m, theta will be of shape (m,m)\n",
    "    x0=samples[0]\n",
    "    tmp_old=x0\n",
    "    for i in range(1,len(samples)):\n",
    "      prob=theta[tmp_old]\n",
    "      tmp=sample(\"obs_{}\".format(i), dist.Categorical(prob), obs=samples[i])\n",
    "      tmp_old=tmp\n",
    "def DtmcSimulation(A,p0,n):\n",
    "    if not np.prod(A>=0):\n",
    "        raise Exception(\"Elements are not non negative\")\n",
    "    if not np.prod(np.isclose(np.sum(A,axis=1),np.ones(A.shape[0]))):\n",
    "        raise Exception(\"at least one row does not sum up to 1\")\n",
    "    if not np.isclose(np.sum(p0),1):\n",
    "        raise Exception(\"initial probability does not sum up to 1\")\n",
    "\n",
    "    l=[]\n",
    "    x0=np.random.choice(np.arange(p0.shape[0]),size=1,p=p0)\n",
    "    l.append(x0.item())\n",
    "    x=x0\n",
    "    for i in range(1,n):\n",
    "        p=A[x].reshape(-1)\n",
    "        x=np.random.choice(np.arange(p.shape[0]),size=1,p=p)\n",
    "        l.append(x.item())\n",
    "    return l,A,p0\n",
    "\n",
    "guide=AutoDelta(model)\n",
    "svi = SVI(model, guide, optimizer, Trace_ELBO())\n",
    "loss=[]\n",
    "for i in trange(100):\n",
    "  loss.append(svi.step(values))\n",
    "\n",
    "print(\"Strong MAP VALUES ARE\")\n",
    "print(guide.median(values)[\"theta\"])\n",
    "\n",
    "\n",
    "print(\"REAL VALUES ARE\", A)\n",
    "plt.plot(np.arange(len(loss)),loss)\n",
    "\n"
   ]
  },
  {
   "cell_type": "markdown",
   "metadata": {
    "id": "MNpjFZ6dgxuZ"
   },
   "source": [
    "Now you see that the MAP is really far from the real value, because the prior it too strong and so the data in not considered."
   ]
  },
  {
   "cell_type": "markdown",
   "metadata": {
    "id": "Xgaq-T2vhMsR"
   },
   "source": [
    "## CTMC\n"
   ]
  },
  {
   "cell_type": "code",
   "execution_count": 5,
   "metadata": {
    "colab": {
     "base_uri": "https://localhost:8080/",
     "height": 607
    },
    "id": "5Mt1jQDsgtBP",
    "outputId": "53165210-5644-435d-f0d9-0a0fbeb77696"
   },
   "outputs": [
    {
     "name": "stderr",
     "output_type": "stream",
     "text": [
      "100%|█████████████████████████████████████████| 500/500 [03:46<00:00,  2.21it/s]"
     ]
    },
    {
     "name": "stdout",
     "output_type": "stream",
     "text": [
      "Weak MAP VALUES ARE\n",
      "tensor([[0.5488, 0.0954, 0.3558],\n",
      "        [0.4900, 0.3020, 0.2079],\n",
      "        [0.6513, 0.1919, 0.1569]])\n",
      "tensor([1.9420, 0.8249, 2.8888])\n",
      "REAL VALUES ARE [[0.56127324 0.12731909 0.31140767]\n",
      " [0.44062379 0.36721539 0.19216082]\n",
      " [0.78867472 0.12564263 0.08568266]] [2 1 3]\n"
     ]
    },
    {
     "name": "stderr",
     "output_type": "stream",
     "text": [
      "\n"
     ]
    },
    {
     "data": {
      "text/plain": [
       "[<matplotlib.lines.Line2D at 0x7fcb9c5f6ad0>]"
      ]
     },
     "execution_count": 5,
     "metadata": {},
     "output_type": "execute_result"
    },
    {
     "data": {
      "image/png": "[encoded data removed]",
      "text/plain": [
       "<Figure size 640x480 with 1 Axes>"
      ]
     },
     "metadata": {},
     "output_type": "display_data"
    }
   ],
   "source": [
    "import scipy\n",
    "def CtmcSimulation(A,rates,x0,n):\n",
    "  times=[]\n",
    "  states=[]\n",
    "  x=x0\n",
    "  tot_time=0\n",
    "  times.append(0)\n",
    "  states.append(x)\n",
    "  for i in range(1,n):\n",
    "    t=scipy.stats.expon(scale=1/rates[x0]).rvs(size=1)[0]\n",
    "    tot_time=tot_time+t\n",
    "    x=np.random.choice(len(A),p=A[x])\n",
    "    times.append(tot_time)\n",
    "    states.append(x)\n",
    "    x0=x\n",
    "  return times,states\n",
    "\n",
    "rates=np.array([2,1,3])\n",
    "t,x=CtmcSimulation(A,np.array([2,1,3]),0,600)\n",
    "t=torch.tensor(t)\n",
    "x=torch.tensor(x)\n",
    "def model(t,x):\n",
    "    m=torch.max(x)+1\n",
    "    with pyro.plate(\"num_states_theta\",m): #this mean sample everything m times\n",
    "      theta=sample(\"theta\", dist.Dirichlet(1*torch.ones(m))) ### very strong prior\n",
    "    with pyro.plate(\"num_states_rates\",m):\n",
    "      rates=sample(\"rates\", dist.Gamma(2,1))\n",
    "    tmp_old=x[0]\n",
    "    \n",
    "\n",
    "    for i in range(1,len(x)):\n",
    "      prob=theta[tmp_old]\n",
    "      rate=rates[tmp_old]\n",
    "      tmp=sample(\"x_{}\".format(i), dist.Categorical(prob), obs=x[i])\n",
    "      deltat=sample(\"t_{}\".format(i), dist.Exponential(rate), obs=t[i]-t[i-1])\n",
    "      tmp_old=tmp\n",
    "    \n",
    "\n",
    "guide=AutoDelta(model)\n",
    "svi = SVI(model, guide, optimizer, Trace_ELBO())\n",
    "loss=[]\n",
    "for i in trange(500):\n",
    "  loss.append(svi.step(t,x))\n",
    "\n",
    "print(\"Weak MAP VALUES ARE\")\n",
    "print(guide.median(values)[\"theta\"])\n",
    "print(guide.median(values)[\"rates\"])\n",
    "\n",
    "\n",
    "print(\"REAL VALUES ARE\", A, rates)\n",
    "plt.plot(np.arange(len(loss)),loss)\n",
    "\n"
   ]
  },
  {
   "cell_type": "markdown",
   "metadata": {
    "id": "gOCdYIWUAmJ9"
   },
   "source": [
    "### Euler maruyama"
   ]
  },
  {
   "cell_type": "code",
   "execution_count": 19,
   "metadata": {
    "colab": {
     "base_uri": "https://localhost:8080/",
     "height": 672
    },
    "id": "jdz_hgzIiYkA",
    "outputId": "15758ff4-1947-4af7-a108-a9544387d4c8"
   },
   "outputs": [
    {
     "name": "stdout",
     "output_type": "stream",
     "text": [
      "torch.Size([500])\n"
     ]
    },
    {
     "name": "stderr",
     "output_type": "stream",
     "text": [
      "100%|█████████████████████████████████████████| 500/500 [01:58<00:00,  4.24it/s]"
     ]
    },
    {
     "name": "stdout",
     "output_type": "stream",
     "text": [
      "Weak MAP VALUES ARE\n",
      "tensor(-0.0008)\n",
      "tensor(0.9922)\n"
     ]
    },
    {
     "name": "stderr",
     "output_type": "stream",
     "text": [
      "\n"
     ]
    },
    {
     "data": {
      "text/plain": [
       "[<matplotlib.lines.Line2D at 0x7fcb9b8b5db0>]"
      ]
     },
     "execution_count": 19,
     "metadata": {},
     "output_type": "execute_result"
    },
    {
     "data": {
      "image/png": "[encoded data removed]",
      "text/plain": [
       "<Figure size 640x480 with 1 Axes>"
      ]
     },
     "metadata": {},
     "output_type": "display_data"
    }
   ],
   "source": [
    "def euler_maruyama(a,b,x0,t0,tf,n,m):\n",
    "    t=tf-t0\n",
    "    tpoints=np.linspace(0,t,n)\n",
    "    deltat=tpoints[1]-tpoints[0]\n",
    "    x=np.zeros((n,x0.reshape(-1).shape[0],m))\n",
    "    x[0]=np.tile(x0.reshape(1,x0.shape[0],1),(1,1,m))\n",
    "    for i in range(1,n):\n",
    "        x[i]=x[i-1]+a(x[i-1],tpoints[i-1])*deltat+b(x[i-1],tpoints[i-1])*np.random.randn(*x[0].shape)*np.sqrt(deltat)\n",
    "    return tpoints,x\n",
    "\n",
    "\n",
    "a=lambda x,t: 0*x\n",
    "b=lambda x,t: 1*np.exp(-x**2)\n",
    "\n",
    "t0=0\n",
    "tf=30\n",
    "x0=np.array([0])\n",
    "n=500\n",
    "m=1\n",
    "t,x=euler_maruyama(a,b,x0,t0,tf,n,m)\n",
    "\n",
    "def a_torch(x,mu):\n",
    "  return mu*x\n",
    "\n",
    "def b_torch(x,sigma):\n",
    "  return sigma*torch.exp(-x**2)\n",
    "\n",
    "\n",
    "\n",
    "\n",
    "t=torch.tensor(t)\n",
    "x=torch.tensor(x).reshape(-1)\n",
    "deltat=t[1]-t[0]\n",
    "\n",
    "def model(x,deltat):\n",
    "    xold=x[0]\n",
    "    mu=sample(\"mu\", dist.Normal(0,1))\n",
    "    sigma=sample(\"sigma\",dist.Gamma(1,1))\n",
    "    for i in range(1,len(x)):\n",
    "        _=sample(\"x_{}\".format(i), dist.Normal(xold+a_torch(xold,mu)*deltat,b_torch(xold,sigma)*torch.sqrt(deltat)), obs=x[i])\n",
    "        xold=_\n",
    "print(x.shape)\n",
    "guide=AutoDelta(model)\n",
    "svi = SVI(model, guide, optimizer, Trace_ELBO())\n",
    "loss=[]\n",
    "for i in trange(500):\n",
    "  loss.append(svi.step(x,deltat))\n",
    "\n",
    "print(\"Weak MAP VALUES ARE\")\n",
    "print(guide.median(values)[\"mu\"])\n",
    "print(guide.median(values)[\"sigma\"])\n",
    "plt.plot(np.arange(len(loss)),loss)\n",
    "\n",
    "\n"
   ]
  },
  {
   "cell_type": "code",
   "execution_count": null,
   "metadata": {
    "id": "IMI7VSRkpI0V"
   },
   "outputs": [],
   "source": []
  }
 ],
 "metadata": {
  "colab": {
   "provenance": []
  },
  "kernelspec": {
   "display_name": "Python 3 (ipykernel)",
   "language": "python",
   "name": "python3"
  },
  "language_info": {
   "codemirror_mode": {
    "name": "ipython",
    "version": 3
   },
   "file_extension": ".py",
   "mimetype": "text/x-python",
   "name": "python",
   "nbconvert_exporter": "python",
   "pygments_lexer": "ipython3",
   "version": "3.10.6"
  }
 },
 "nbformat": 4,
 "nbformat_minor": 1
}
