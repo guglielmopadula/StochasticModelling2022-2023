{
 "cells": [
  {
   "cell_type": "markdown",
   "id": "8227eb7e",
   "metadata": {},
   "source": [
    "# Alternative SDMS Assignment\n",
    "## Deadine: 07/06/2023 \n",
    "[![Open in Colab](https://colab.research.google.com/assets/colab-badge.svg)](https://colab.research.google.com/github/guglielmopadula/StochasticModelling2022-2023/blob/main/AlternativeAssignment.ipynb)\n",
    "\n",
    "- Send your assignment to my email: guglielmo.padula@studenti.units.it before the 00:00 AM of the day after the deadiline.\n",
    "\n",
    "- This assignment is meant for the people that did not both the assignments and still want to get the full mark at the exam.\n",
    "\n",
    "- It is divided in two parts. Do only the part relative to the assignments you did'nt do.\n",
    "\n",
    "\n",
    "## Part 1\n",
    "\n",
    "### Exercise 1\n",
    "Let the $x_{n}^{(a)}$ the discrete dynamical system with equation\n",
    "$$\n",
    "\\begin{cases}\n",
    "x_{n+1}=x_{n}^{7}-x_{n}^{5}+x_{n}^{3}\\\\\n",
    "x_{0}=a\n",
    "\\end{cases}\n",
    "$$\n",
    "1) Find the equilibrium points\n",
    "2) Check if they are stable or unstable\n",
    "3) Find $x_{+\\infty}^{(a)} \\forall a \\in \\mathbb{R}$\n",
    "\n",
    "### Exercise 2\n",
    "Let $X_{t}^{a}$ the ODE described with \n",
    "$$\\begin{cases}\n",
    "\\dot{X}=\\begin{bmatrix} 0 & 1 \\\\ -1 & 0 \\end{bmatrix} X\\\\\n",
    "X_{0}=\\begin{bmatrix} a \\\\ a\\end{bmatrix}\n",
    "\\end{cases}\n",
    "$$\n",
    "Prove that the only equilibrium point of this system is 0, that it in unstable, and that $X_{t}^{(a)}$ converges if and only if $a=0$.\n",
    "Prove that $X_{t}$ is bounded for every $a \\in \\mathbb{R}$.\n",
    "\n",
    "## Part 2\n",
    "\n",
    "### Exercise 1\n",
    "This exercise was created by the researcher Francesca Cairoli (DMG).\n",
    "\n",
    "The game Small Monopoly is played on a game board that has 16 spaces arranged around the\n",
    "outside of a square. The squares have names like Reading Railroad and Park Place but we will\n",
    "number the squares 0 (Go), 1 (Baltic Avenue), ..., 15 (Boardwalk). \n",
    "You roll a coin and you move one step ahead if you get head and two step ahead if you get tail. \n",
    "The game ends when you reach Boardwalk (passing is not ok).\n",
    "Square 12 is “Go to Jail,” which sends you to square 4. You immediately get out of jail.\n",
    "There are two Chance squares at 2 and 10 (diamonds on the graph) where you draw a card,\n",
    "which can send you to another square. The card is picked (with replacement) from a deck\n",
    "containing all the 16 squares.\n",
    "![title](\"./monopoly.png\")\n",
    "\n",
    "\n",
    "\n",
    "### Exercise 2\n"
   ]
  },
  {
   "cell_type": "code",
   "execution_count": null,
   "id": "2f0111de",
   "metadata": {},
   "outputs": [],
   "source": []
  }
 ],
 "metadata": {
  "kernelspec": {
   "display_name": "Python 3 (ipykernel)",
   "language": "python",
   "name": "python3"
  },
  "language_info": {
   "codemirror_mode": {
    "name": "ipython",
    "version": 3
   },
   "file_extension": ".py",
   "mimetype": "text/x-python",
   "name": "python",
   "nbconvert_exporter": "python",
   "pygments_lexer": "ipython3",
   "version": "3.10.6"
  }
 },
 "nbformat": 4,
 "nbformat_minor": 5
}
