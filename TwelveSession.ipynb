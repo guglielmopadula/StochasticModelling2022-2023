{
  "nbformat": 4,
  "nbformat_minor": 0,
  "metadata": {
    "colab": {
      "provenance": []
    },
    "kernelspec": {
      "name": "python3",
      "display_name": "Python 3"
    },
    "language_info": {
      "name": "python"
    }
  },
  "cells": [
    {
      "cell_type": "markdown",
      "source": [
        "## Eleventh Session of Stochastic Modelling\n",
        "\n",
        "[![Open in Colab](https://colab.research.google.com/assets/colab-badge.svg)](https://colab.research.google.com/github/guglielmopadula/StochasticModelling2022-2023/blob/main/TwelveSession.ipynb)\n",
        "\n",
        "\n",
        "## Introduction of Bayesian Inference and Pyro\n",
        "\n",
        "In bayesian inference we are given a likehood\n",
        "$p(y_{1},...,y_{n}|\\theta)$ and a prior $p(\\theta)$, which represents out actual knowledge around $\\theta$ and we want to estimate $$\\theta_{MAP}=\\arg \\max_{\\theta} p(\\theta|y)∝ p(y|\\theta)p(\\theta)$$\n",
        "\n",
        "For a markov process we have\n",
        "$p(y_{n}|y_{n-1}\\theta)*p(y_{n-1}|y_{n-2}\\theta)...*p(y_{2}|y_{1}\\theta)*p(y_{1}|\\theta)p(\\theta)$\n",
        "If we want to sample, the smartest thing to do is:\n",
        "- sample $\\theta$ from $p(\\theta)$\n",
        "- sample $y_{1}$ from $p(y_{1}|\\theta)$.\n",
        "- sample $y_{2}$ from $p(y_{2}|\\theta,y_{1})$.\n",
        "- ....\n",
        "- sample $y_{n}$ from $p(y_{n}|\\theta,y_{n-2})$\n",
        "\n",
        "###DTMC\n",
        "$\\theta$ is our $m \\times m$ transition matrix. \n",
        "We have that $$p(y_{n}|y_{n-1},\\theta)=\\theta_{y_{n-1},y_{n}}$$\n",
        "We need a prior that samples a probability. This prior is called Dirichlet and it's parameters are $\\alpha_{1}>1,...,\\alpha_{m}>1$, this distribution is highly technical and we will not see it.\n",
        "The lower the parameter prior are, the more the prior is uninformative and the more the MAP will be similar to the MLE.\n",
        "\n",
        "###CTMC\n",
        "A CTMC parametrized by a $m \\times m$ transition matrix $\\theta$  and a $m$ vector $\\lambda$  can be seen as a sequence of tuples $(t_{1},Y_{t_{1}}),(t_{2},Y_{t_{2}})$ where $Y_{t_{i}}=X_{i}$ and $X_{n}$ is a DTMC with matrix $\\theta$ and $t_{n+1}-t_{n}\\sim Exp({\\lambda_{X_{n}}})$.\n",
        "We need a prior for $\\theta$, for which we use a Dirichlet again, but also a prior for $\\lambda$, which must have a positive support, for reasons that go beyond the scope of this course, a Gamma distribution with parameters $\\alpha,\\beta$ is a good choice.\n",
        "\n",
        "### SDE\n",
        "We saw that an sde can be approximated with\n",
        "$$X_{n+1}=f(X_{n},t_{n},\\theta)+g(X_{n},t_{n},\\theta)\\epsilon$$, where $$\\epsilon \\sim Normal(0,1)$$, \n",
        "so $$X_{n+1}\\sim Normal(X{t}+f(X_{n},t_{n},\\theta)*\\Delta t,g(X_{n},t_{n},\\theta)^{2})$$\n",
        "\n",
        "A library for computing $\\theta_{MAP}$ (an not only that) given the sequence of samples to do is called numpyro, which is based on JAX."
      ],
      "metadata": {
        "id": "IXuK_AUg-a7z"
      }
    },
    {
      "cell_type": "code",
      "source": [
        "!pip install pyro-ppl\n"
      ],
      "metadata": {
        "colab": {
          "base_uri": "https://localhost:8080/"
        },
        "id": "1PqT_j5dGaoE",
        "outputId": "c3c97bcb-faa5-403f-e775-401c4ec390ea"
      },
      "execution_count": 4,
      "outputs": [
        {
          "output_type": "stream",
          "name": "stdout",
          "text": [
            "Looking in indexes: https://pypi.org/simple, https://us-python.pkg.dev/colab-wheels/public/simple/\n",
            "Collecting pyro-ppl\n",
            "  Downloading pyro_ppl-1.8.4-py3-none-any.whl (730 kB)\n",
            "\u001b[2K     \u001b[90m━━━━━━━━━━━━━━━━━━━━━━━━━━━━━━━━━━━━━━\u001b[0m \u001b[32m730.7/730.7 kB\u001b[0m \u001b[31m17.7 MB/s\u001b[0m eta \u001b[36m0:00:00\u001b[0m\n",
            "\u001b[?25hRequirement already satisfied: numpy>=1.7 in /usr/local/lib/python3.10/dist-packages (from pyro-ppl) (1.22.4)\n",
            "Requirement already satisfied: opt-einsum>=2.3.2 in /usr/local/lib/python3.10/dist-packages (from pyro-ppl) (3.3.0)\n",
            "Collecting pyro-api>=0.1.1 (from pyro-ppl)\n",
            "  Downloading pyro_api-0.1.2-py3-none-any.whl (11 kB)\n",
            "Requirement already satisfied: torch>=1.11.0 in /usr/local/lib/python3.10/dist-packages (from pyro-ppl) (2.0.1+cu118)\n",
            "Requirement already satisfied: tqdm>=4.36 in /usr/local/lib/python3.10/dist-packages (from pyro-ppl) (4.65.0)\n",
            "Requirement already satisfied: filelock in /usr/local/lib/python3.10/dist-packages (from torch>=1.11.0->pyro-ppl) (3.12.0)\n",
            "Requirement already satisfied: typing-extensions in /usr/local/lib/python3.10/dist-packages (from torch>=1.11.0->pyro-ppl) (4.5.0)\n",
            "Requirement already satisfied: sympy in /usr/local/lib/python3.10/dist-packages (from torch>=1.11.0->pyro-ppl) (1.11.1)\n",
            "Requirement already satisfied: networkx in /usr/local/lib/python3.10/dist-packages (from torch>=1.11.0->pyro-ppl) (3.1)\n",
            "Requirement already satisfied: jinja2 in /usr/local/lib/python3.10/dist-packages (from torch>=1.11.0->pyro-ppl) (3.1.2)\n",
            "Requirement already satisfied: triton==2.0.0 in /usr/local/lib/python3.10/dist-packages (from torch>=1.11.0->pyro-ppl) (2.0.0)\n",
            "Requirement already satisfied: cmake in /usr/local/lib/python3.10/dist-packages (from triton==2.0.0->torch>=1.11.0->pyro-ppl) (3.25.2)\n",
            "Requirement already satisfied: lit in /usr/local/lib/python3.10/dist-packages (from triton==2.0.0->torch>=1.11.0->pyro-ppl) (16.0.5)\n",
            "Requirement already satisfied: MarkupSafe>=2.0 in /usr/local/lib/python3.10/dist-packages (from jinja2->torch>=1.11.0->pyro-ppl) (2.1.2)\n",
            "Requirement already satisfied: mpmath>=0.19 in /usr/local/lib/python3.10/dist-packages (from sympy->torch>=1.11.0->pyro-ppl) (1.3.0)\n",
            "Installing collected packages: pyro-api, pyro-ppl\n",
            "Successfully installed pyro-api-0.1.2 pyro-ppl-1.8.4\n"
          ]
        }
      ]
    },
    {
      "cell_type": "markdown",
      "source": [
        "## DTMC\n"
      ],
      "metadata": {
        "id": "j6ea1QwPb56a"
      }
    },
    {
      "cell_type": "markdown",
      "source": [
        "### Maximum likehood estimation"
      ],
      "metadata": {
        "id": "8xl3wRvrcRPn"
      }
    },
    {
      "cell_type": "code",
      "execution_count": 5,
      "metadata": {
        "colab": {
          "base_uri": "https://localhost:8080/",
          "height": 589
        },
        "id": "BEtzDGP46-T9",
        "outputId": "50f35dc4-c7f5-443f-835d-e766b68ae013"
      },
      "outputs": [
        {
          "output_type": "stream",
          "name": "stderr",
          "text": [
            "100%|██████████| 100/100 [00:52<00:00,  1.90it/s]"
          ]
        },
        {
          "output_type": "stream",
          "name": "stdout",
          "text": [
            "MLE VALUES ARE\n",
            "tensor([[0.5582, 0.1441, 0.2977],\n",
            "        [0.4745, 0.3131, 0.2124],\n",
            "        [0.7728, 0.1169, 0.1104]])\n",
            "REAL VALUES ARE [[0.56127324 0.12731909 0.31140767]\n",
            " [0.44062379 0.36721539 0.19216082]\n",
            " [0.78867472 0.12564263 0.08568266]]\n"
          ]
        },
        {
          "output_type": "stream",
          "name": "stderr",
          "text": [
            "\n"
          ]
        },
        {
          "output_type": "execute_result",
          "data": {
            "text/plain": [
              "[<matplotlib.lines.Line2D at 0x7f2682e54a00>]"
            ]
          },
          "metadata": {},
          "execution_count": 5
        },
        {
          "output_type": "display_data",
          "data": {
            "text/plain": [
              "<Figure size 640x480 with 1 Axes>"
            ],
            "image/png": "[encoded data removed]"
          },
          "metadata": {}
        }
      ],
      "source": [
        "import numpy as np\n",
        "import pyro.optim as optim\n",
        "import torch\n",
        "from tqdm import trange\n",
        "import pyro.distributions as dist\n",
        "from pyro.infer import Predictive, SVI, Trace_ELBO\n",
        "from pyro import sample\n",
        "from pyro.infer.autoguide import AutoDelta\n",
        "from pyro.optim import Adam\n",
        "import pyro\n",
        "import matplotlib.pyplot as plt\n",
        "def model(samples):\n",
        "    m=torch.max(samples)+1\n",
        "    with pyro.plate(\"num_states\",m): #this mean sample everything m times\n",
        "      theta=sample(\"theta\", dist.Dirichlet(torch.ones(m)).mask(False)) ### .mask(FALSE) for MLE\n",
        "      ## because we are in a plate of size m, theta will be of shape (m,m)\n",
        "    x0=samples[0]\n",
        "    tmp_old=x0\n",
        "    for i in range(1,len(samples)):\n",
        "      prob=theta[tmp_old]\n",
        "      tmp=sample(\"obs_{}\".format(i), dist.Categorical(prob), obs=samples[i])\n",
        "      tmp_old=tmp\n",
        "def DtmcSimulation(A,p0,n):\n",
        "    if not np.prod(A>=0):\n",
        "        raise Exception(\"Elements are not non negative\")\n",
        "    if not np.prod(np.isclose(np.sum(A,axis=1),np.ones(A.shape[0]))):\n",
        "        raise Exception(\"at least one row does not sum up to 1\")\n",
        "    if not np.isclose(np.sum(p0),1):\n",
        "        raise Exception(\"initial probability does not sum up to 1\")\n",
        "\n",
        "    l=[]\n",
        "    x0=np.random.choice(np.arange(p0.shape[0]),size=1,p=p0)\n",
        "    l.append(x0.item())\n",
        "    x=x0\n",
        "    for i in range(1,n):\n",
        "        p=A[x].reshape(-1)\n",
        "        x=np.random.choice(np.arange(p.shape[0]),size=1,p=p)\n",
        "        l.append(x.item())\n",
        "    return l,A,p0\n",
        "\n",
        "np.random.seed(0)\n",
        "torch.manual_seed(0)\n",
        "A=np.abs(np.random.normal(size=(3,3)))\n",
        "A=(A.T/np.sum(A.T,axis=0)).T\n",
        "p0=np.array([1/3,1/3,1/3])\n",
        "values=DtmcSimulation(A,p0,600)[0]\n",
        "values=torch.tensor(values)\n",
        "\n",
        "m=torch.max(values)+1\n",
        "guide=AutoDelta(model)\n",
        "adam_params = {\"lr\": 0.05, \"betas\": (0.90, 0.999)}\n",
        "optimizer = Adam(adam_params)\n",
        "svi = SVI(model, guide, optimizer, Trace_ELBO())\n",
        "loss=[]\n",
        "for i in trange(100):\n",
        "  loss.append(svi.step(values))\n",
        "\n",
        "print(\"MLE VALUES ARE\")\n",
        "print(guide.median(values)[\"theta\"])\n",
        "\n",
        "\n",
        "print(\"REAL VALUES ARE\", A)\n",
        "plt.plot(np.arange(len(loss)),loss)\n",
        "\n"
      ]
    },
    {
      "cell_type": "markdown",
      "source": [
        "Note that the MLE and our real parameter are pretty similar, better results can be achieved with more iterations."
      ],
      "metadata": {
        "id": "9lBeWIqkfbYS"
      }
    },
    {
      "cell_type": "markdown",
      "source": [
        "### Weak prior"
      ],
      "metadata": {
        "id": "6JieXWNRflpV"
      }
    },
    {
      "cell_type": "code",
      "execution_count": 6,
      "metadata": {
        "colab": {
          "base_uri": "https://localhost:8080/",
          "height": 604
        },
        "outputId": "218c5c16-6c07-4d95-e2a2-0f2619ce8f2e",
        "id": "LaZMLRaxcM9J"
      },
      "outputs": [
        {
          "output_type": "stream",
          "name": "stderr",
          "text": [
            "100%|██████████| 100/100 [00:45<00:00,  2.19it/s]"
          ]
        },
        {
          "output_type": "stream",
          "name": "stdout",
          "text": [
            "Weak MAP VALUES ARE\n",
            "tensor([[0.5590, 0.1433, 0.2978],\n",
            "        [0.4748, 0.3131, 0.2121],\n",
            "        [0.7708, 0.1181, 0.1111]])\n",
            "REAL VALUES ARE [[0.56127324 0.12731909 0.31140767]\n",
            " [0.44062379 0.36721539 0.19216082]\n",
            " [0.78867472 0.12564263 0.08568266]]\n"
          ]
        },
        {
          "output_type": "stream",
          "name": "stderr",
          "text": [
            "\n"
          ]
        },
        {
          "output_type": "execute_result",
          "data": {
            "text/plain": [
              "[<matplotlib.lines.Line2D at 0x7f2680c38070>]"
            ]
          },
          "metadata": {},
          "execution_count": 6
        },
        {
          "output_type": "display_data",
          "data": {
            "text/plain": [
              "<Figure size 640x480 with 1 Axes>"
            ],
            "image/png": "[encoded data removed]"
          },
          "metadata": {}
        }
      ],
      "source": [
        "def model(samples):\n",
        "    m=torch.max(samples)+1\n",
        "    with pyro.plate(\"num_states\",m): #this mean sample everything m times\n",
        "      theta=sample(\"theta\", dist.Dirichlet(1*torch.ones(m))) ### very weak prior\n",
        "      ## because we are in a plate of size m, theta will be of shape (m,m)\n",
        "    x0=samples[0]\n",
        "    tmp_old=x0\n",
        "    for i in range(1,len(samples)):\n",
        "      prob=theta[tmp_old]\n",
        "      tmp=sample(\"obs_{}\".format(i), dist.Categorical(prob), obs=samples[i])\n",
        "      tmp_old=tmp\n",
        "def DtmcSimulation(A,p0,n):\n",
        "    if not np.prod(A>=0):\n",
        "        raise Exception(\"Elements are not non negative\")\n",
        "    if not np.prod(np.isclose(np.sum(A,axis=1),np.ones(A.shape[0]))):\n",
        "        raise Exception(\"at least one row does not sum up to 1\")\n",
        "    if not np.isclose(np.sum(p0),1):\n",
        "        raise Exception(\"initial probability does not sum up to 1\")\n",
        "\n",
        "    l=[]\n",
        "    x0=np.random.choice(np.arange(p0.shape[0]),size=1,p=p0)\n",
        "    l.append(x0.item())\n",
        "    x=x0\n",
        "    for i in range(1,n):\n",
        "        p=A[x].reshape(-1)\n",
        "        x=np.random.choice(np.arange(p.shape[0]),size=1,p=p)\n",
        "        l.append(x.item())\n",
        "    return l,A,p0\n",
        "\n",
        "guide=AutoDelta(model)\n",
        "svi = SVI(model, guide, optimizer, Trace_ELBO())\n",
        "loss=[]\n",
        "for i in trange(100):\n",
        "  loss.append(svi.step(values))\n",
        "\n",
        "print(\"Weak MAP VALUES ARE\")\n",
        "print(guide.median(values)[\"theta\"])\n",
        "\n",
        "\n",
        "print(\"REAL VALUES ARE\", A)\n",
        "plt.plot(np.arange(len(loss)),loss)\n",
        "\n"
      ]
    },
    {
      "cell_type": "markdown",
      "source": [
        "Again the results are very similar to the real value."
      ],
      "metadata": {
        "id": "aMmOKKkFgTj0"
      }
    },
    {
      "cell_type": "markdown",
      "source": [
        "### Strong prior"
      ],
      "metadata": {
        "id": "bBuGIT7Igny2"
      }
    },
    {
      "cell_type": "code",
      "source": [
        "def model(samples):\n",
        "    m=torch.max(samples)+1\n",
        "    with pyro.plate(\"num_states\",m): #this mean sample everything m times\n",
        "      theta=sample(\"theta\", dist.Dirichlet(9999*torch.ones(m))) ### very strong prior\n",
        "      ## because we are in a plate of size m, theta will be of shape (m,m)\n",
        "    x0=samples[0]\n",
        "    tmp_old=x0\n",
        "    for i in range(1,len(samples)):\n",
        "      prob=theta[tmp_old]\n",
        "      tmp=sample(\"obs_{}\".format(i), dist.Categorical(prob), obs=samples[i])\n",
        "      tmp_old=tmp\n",
        "def DtmcSimulation(A,p0,n):\n",
        "    if not np.prod(A>=0):\n",
        "        raise Exception(\"Elements are not non negative\")\n",
        "    if not np.prod(np.isclose(np.sum(A,axis=1),np.ones(A.shape[0]))):\n",
        "        raise Exception(\"at least one row does not sum up to 1\")\n",
        "    if not np.isclose(np.sum(p0),1):\n",
        "        raise Exception(\"initial probability does not sum up to 1\")\n",
        "\n",
        "    l=[]\n",
        "    x0=np.random.choice(np.arange(p0.shape[0]),size=1,p=p0)\n",
        "    l.append(x0.item())\n",
        "    x=x0\n",
        "    for i in range(1,n):\n",
        "        p=A[x].reshape(-1)\n",
        "        x=np.random.choice(np.arange(p.shape[0]),size=1,p=p)\n",
        "        l.append(x.item())\n",
        "    return l,A,p0\n",
        "\n",
        "guide=AutoDelta(model)\n",
        "svi = SVI(model, guide, optimizer, Trace_ELBO())\n",
        "loss=[]\n",
        "for i in trange(100):\n",
        "  loss.append(svi.step(values))\n",
        "\n",
        "print(\"Strong MAP VALUES ARE\")\n",
        "print(guide.median(values)[\"theta\"])\n",
        "\n",
        "\n",
        "print(\"REAL VALUES ARE\", A)\n",
        "plt.plot(np.arange(len(loss)),loss)\n",
        "\n"
      ],
      "metadata": {
        "colab": {
          "base_uri": "https://localhost:8080/",
          "height": 589
        },
        "id": "uWACDSZvgqkr",
        "outputId": "3f701996-691e-4829-d392-65cdf08430a0"
      },
      "execution_count": 7,
      "outputs": [
        {
          "output_type": "stream",
          "name": "stderr",
          "text": [
            "100%|██████████| 100/100 [00:35<00:00,  2.83it/s]"
          ]
        },
        {
          "output_type": "stream",
          "name": "stdout",
          "text": [
            "Strong MAP VALUES ARE\n",
            "tensor([[0.3363, 0.3308, 0.3328],\n",
            "        [0.3345, 0.3331, 0.3324],\n",
            "        [0.3370, 0.3317, 0.3313]])\n",
            "REAL VALUES ARE [[0.56127324 0.12731909 0.31140767]\n",
            " [0.44062379 0.36721539 0.19216082]\n",
            " [0.78867472 0.12564263 0.08568266]]\n"
          ]
        },
        {
          "output_type": "stream",
          "name": "stderr",
          "text": [
            "\n"
          ]
        },
        {
          "output_type": "execute_result",
          "data": {
            "text/plain": [
              "[<matplotlib.lines.Line2D at 0x7f2680acc8e0>]"
            ]
          },
          "metadata": {},
          "execution_count": 7
        },
        {
          "output_type": "display_data",
          "data": {
            "text/plain": [
              "<Figure size 640x480 with 1 Axes>"
            ],
            "image/png": "[encoded data removed]"
          },
          "metadata": {}
        }
      ]
    },
    {
      "cell_type": "markdown",
      "source": [
        "Now you see that the MAP is really far from the real value, because the prior it too strong and so the data in not considered."
      ],
      "metadata": {
        "id": "MNpjFZ6dgxuZ"
      }
    },
    {
      "cell_type": "markdown",
      "source": [
        "## CTMC\n"
      ],
      "metadata": {
        "id": "Xgaq-T2vhMsR"
      }
    },
    {
      "cell_type": "code",
      "source": [
        "import scipy\n",
        "def CtmcSimulation(A,rates,x0,n):\n",
        "  times=[]\n",
        "  states=[]\n",
        "  x=x0\n",
        "  tot_time=0\n",
        "  times.append(0)\n",
        "  states.append(x)\n",
        "  for i in range(1,n):\n",
        "    t=scipy.stats.expon(scale=1/rates[x0]).rvs(size=1)[0]\n",
        "    tot_time=tot_time+t\n",
        "    x=np.random.choice(len(A),p=A[x])\n",
        "    times.append(tot_time)\n",
        "    states.append(x)\n",
        "    x0=x\n",
        "  return times,states\n",
        "\n",
        "rates=np.array([2,1,3])\n",
        "t,x=CtmcSimulation(A,np.array([2,1,3]),0,600)\n",
        "t=torch.tensor(t)\n",
        "x=torch.tensor(x)\n",
        "def model(t,x):\n",
        "    m=torch.max(x)+1\n",
        "    with pyro.plate(\"num_states_theta\",m): #this mean sample everything m times\n",
        "      theta=sample(\"theta\", dist.Dirichlet(1*torch.ones(m))) ### very strong prior\n",
        "    with pyro.plate(\"num_states_rates\",m):\n",
        "      rates=sample(\"rates\", dist.Gamma(2,1))\n",
        "    tmp_old=x[0]\n",
        "    \n",
        "\n",
        "    for i in range(1,len(x)):\n",
        "      prob=theta[tmp_old]\n",
        "      rate=rates[tmp_old]\n",
        "      tmp=sample(\"x_{}\".format(i), dist.Categorical(prob), obs=x[i])\n",
        "      deltat=sample(\"t_{}\".format(i), dist.Exponential(rate), obs=t[i]-t[i-1])\n",
        "      tmp_old=tmp\n",
        "    \n",
        "\n",
        "guide=AutoDelta(model)\n",
        "svi = SVI(model, guide, optimizer, Trace_ELBO())\n",
        "loss=[]\n",
        "for i in trange(500):\n",
        "  loss.append(svi.step(t,x))\n",
        "\n",
        "print(\"Weak MAP VALUES ARE\")\n",
        "print(guide.median(values)[\"theta\"])\n",
        "print(guide.median(values)[\"rates\"])\n",
        "\n",
        "\n",
        "print(\"REAL VALUES ARE\", A, rates)\n",
        "plt.plot(np.arange(len(loss)),loss)\n",
        "\n"
      ],
      "metadata": {
        "colab": {
          "base_uri": "https://localhost:8080/",
          "height": 607
        },
        "id": "5Mt1jQDsgtBP",
        "outputId": "53165210-5644-435d-f0d9-0a0fbeb77696"
      },
      "execution_count": 8,
      "outputs": [
        {
          "output_type": "stream",
          "name": "stderr",
          "text": [
            "100%|██████████| 500/500 [05:07<00:00,  1.63it/s]"
          ]
        },
        {
          "output_type": "stream",
          "name": "stdout",
          "text": [
            "Weak MAP VALUES ARE\n",
            "tensor([[0.5488, 0.0954, 0.3558],\n",
            "        [0.4900, 0.3020, 0.2079],\n",
            "        [0.6513, 0.1919, 0.1569]])\n",
            "tensor([1.9420, 0.8249, 2.8888])\n",
            "REAL VALUES ARE [[0.56127324 0.12731909 0.31140767]\n",
            " [0.44062379 0.36721539 0.19216082]\n",
            " [0.78867472 0.12564263 0.08568266]] [2 1 3]\n"
          ]
        },
        {
          "output_type": "stream",
          "name": "stderr",
          "text": [
            "\n"
          ]
        },
        {
          "output_type": "execute_result",
          "data": {
            "text/plain": [
              "[<matplotlib.lines.Line2D at 0x7f267a385c30>]"
            ]
          },
          "metadata": {},
          "execution_count": 8
        },
        {
          "output_type": "display_data",
          "data": {
            "text/plain": [
              "<Figure size 640x480 with 1 Axes>"
            ],
            "image/png": "[encoded data removed]"
          },
          "metadata": {}
        }
      ]
    },
    {
      "cell_type": "markdown",
      "source": [
        "### Euler maruyama"
      ],
      "metadata": {
        "id": "gOCdYIWUAmJ9"
      }
    },
    {
      "cell_type": "code",
      "source": [
        "def euler_maruyama(a,b,x0,t0,tf,n,m):\n",
        "    t=tf-t0\n",
        "    tpoints=np.linspace(0,t,n)\n",
        "    deltat=tpoints[1]-tpoints[0]\n",
        "    x=np.zeros((n,x0.reshape(-1).shape[0],m))\n",
        "    x[0]=np.tile(x0.reshape(1,x0.shape[0],1),(1,1,m))\n",
        "    for i in range(1,n):\n",
        "        x[i]=x[i-1]+a(x[i-1],tpoints[i-1])*deltat+b(x[i-1],tpoints[i-1])*np.random.randn(*x[0].shape)*np.sqrt(deltat)\n",
        "    return tpoints,x\n",
        "\n",
        "\n",
        "a=lambda x,t: 5*x\n",
        "b=lambda x,t: 2*np.exp(-x**2)\n",
        "\n",
        "t0=0\n",
        "tf=30\n",
        "x0=np.array([0])\n",
        "n=500\n",
        "m=1\n",
        "t,x=euler_maruyama(a,b,x0,t0,tf,n,m)\n",
        "\n",
        "def a_torch(x,mu):\n",
        "  return 0.5*x\n",
        "\n",
        "def b_torch(x,sigma):\n",
        "  return 0.5*torch.exp(-x**2)\n",
        "\n",
        "\n",
        "\n",
        "\n",
        "t=torch.tensor(t)\n",
        "x=torch.tensor(x).reshape(-1)\n",
        "deltat=t[1]-t[0]\n",
        "\n",
        "def model(x,deltat):\n",
        "    xold=x[0]\n",
        "    mu=sample(\"mu\", dist.Normal(0,1))\n",
        "    sigma=sample(\"sigma\",dist.Gamma(1,1))\n",
        "    for i in range(1,len(x)):\n",
        "      _=sample(\"x_{}\".format(i), dist.Normal(xold+a_torch(xold,mu)*deltat,b_torch(xold,sigma)*torch.sqrt(deltat)), obs=x[i])\n",
        "\n",
        "print(x.shape)\n",
        "guide=AutoDelta(model)\n",
        "svi = SVI(model, guide, optimizer, Trace_ELBO())\n",
        "loss=[]\n",
        "for i in trange(500):\n",
        "  loss.append(svi.step(x,deltat))\n",
        "\n",
        "print(\"Weak MAP VALUES ARE\")\n",
        "print(guide.median(values)[\"mu\"])\n",
        "print(guide.median(values)[\"sigma\"])\n",
        "plt.plot(np.arange(len(loss)),loss)\n",
        "\n",
        "\n"
      ],
      "metadata": {
        "colab": {
          "base_uri": "https://localhost:8080/",
          "height": 672
        },
        "id": "jdz_hgzIiYkA",
        "outputId": "15758ff4-1947-4af7-a108-a9544387d4c8"
      },
      "execution_count": 9,
      "outputs": [
        {
          "output_type": "stream",
          "name": "stdout",
          "text": [
            "torch.Size([500])\n"
          ]
        },
        {
          "output_type": "stream",
          "name": "stderr",
          "text": [
            "  0%|          | 1/500 [00:00<02:51,  2.91it/s]\n"
          ]
        },
        {
          "output_type": "error",
          "ename": "ValueError",
          "evalue": "ignored",
          "traceback": [
            "\u001b[0;31m---------------------------------------------------------------------------\u001b[0m",
            "\u001b[0;31mValueError\u001b[0m                                Traceback (most recent call last)",
            "\u001b[0;32m/usr/local/lib/python3.10/dist-packages/pyro/poutine/trace_messenger.py\u001b[0m in \u001b[0;36m__call__\u001b[0;34m(self, *args, **kwargs)\u001b[0m\n\u001b[1;32m    173\u001b[0m             \u001b[0;32mtry\u001b[0m\u001b[0;34m:\u001b[0m\u001b[0;34m\u001b[0m\u001b[0;34m\u001b[0m\u001b[0m\n\u001b[0;32m--> 174\u001b[0;31m                 \u001b[0mret\u001b[0m \u001b[0;34m=\u001b[0m \u001b[0mself\u001b[0m\u001b[0;34m.\u001b[0m\u001b[0mfn\u001b[0m\u001b[0;34m(\u001b[0m\u001b[0;34m*\u001b[0m\u001b[0margs\u001b[0m\u001b[0;34m,\u001b[0m \u001b[0;34m**\u001b[0m\u001b[0mkwargs\u001b[0m\u001b[0;34m)\u001b[0m\u001b[0;34m\u001b[0m\u001b[0;34m\u001b[0m\u001b[0m\n\u001b[0m\u001b[1;32m    175\u001b[0m             \u001b[0;32mexcept\u001b[0m \u001b[0;34m(\u001b[0m\u001b[0mValueError\u001b[0m\u001b[0;34m,\u001b[0m \u001b[0mRuntimeError\u001b[0m\u001b[0;34m)\u001b[0m \u001b[0;32mas\u001b[0m \u001b[0me\u001b[0m\u001b[0;34m:\u001b[0m\u001b[0;34m\u001b[0m\u001b[0;34m\u001b[0m\u001b[0m\n",
            "\u001b[0;32m/usr/local/lib/python3.10/dist-packages/pyro/poutine/messenger.py\u001b[0m in \u001b[0;36m_context_wrap\u001b[0;34m(context, fn, *args, **kwargs)\u001b[0m\n\u001b[1;32m     11\u001b[0m     \u001b[0;32mwith\u001b[0m \u001b[0mcontext\u001b[0m\u001b[0;34m:\u001b[0m\u001b[0;34m\u001b[0m\u001b[0;34m\u001b[0m\u001b[0m\n\u001b[0;32m---> 12\u001b[0;31m         \u001b[0;32mreturn\u001b[0m \u001b[0mfn\u001b[0m\u001b[0;34m(\u001b[0m\u001b[0;34m*\u001b[0m\u001b[0margs\u001b[0m\u001b[0;34m,\u001b[0m \u001b[0;34m**\u001b[0m\u001b[0mkwargs\u001b[0m\u001b[0;34m)\u001b[0m\u001b[0;34m\u001b[0m\u001b[0;34m\u001b[0m\u001b[0m\n\u001b[0m\u001b[1;32m     13\u001b[0m \u001b[0;34m\u001b[0m\u001b[0m\n",
            "\u001b[0;32m<ipython-input-9-af010640ec2c>\u001b[0m in \u001b[0;36mmodel\u001b[0;34m(x, deltat)\u001b[0m\n\u001b[1;32m     39\u001b[0m     \u001b[0;32mfor\u001b[0m \u001b[0mi\u001b[0m \u001b[0;32min\u001b[0m \u001b[0mrange\u001b[0m\u001b[0;34m(\u001b[0m\u001b[0;36m1\u001b[0m\u001b[0;34m,\u001b[0m\u001b[0mlen\u001b[0m\u001b[0;34m(\u001b[0m\u001b[0mx\u001b[0m\u001b[0;34m)\u001b[0m\u001b[0;34m)\u001b[0m\u001b[0;34m:\u001b[0m\u001b[0;34m\u001b[0m\u001b[0;34m\u001b[0m\u001b[0m\n\u001b[0;32m---> 40\u001b[0;31m       \u001b[0m_\u001b[0m\u001b[0;34m=\u001b[0m\u001b[0msample\u001b[0m\u001b[0;34m(\u001b[0m\u001b[0;34m\"x_{}\"\u001b[0m\u001b[0;34m.\u001b[0m\u001b[0mformat\u001b[0m\u001b[0;34m(\u001b[0m\u001b[0mi\u001b[0m\u001b[0;34m)\u001b[0m\u001b[0;34m,\u001b[0m \u001b[0mdist\u001b[0m\u001b[0;34m.\u001b[0m\u001b[0mNormal\u001b[0m\u001b[0;34m(\u001b[0m\u001b[0mxold\u001b[0m\u001b[0;34m+\u001b[0m\u001b[0ma_torch\u001b[0m\u001b[0;34m(\u001b[0m\u001b[0mxold\u001b[0m\u001b[0;34m,\u001b[0m\u001b[0mmu\u001b[0m\u001b[0;34m)\u001b[0m\u001b[0;34m*\u001b[0m\u001b[0mdeltat\u001b[0m\u001b[0;34m,\u001b[0m\u001b[0mb_torch\u001b[0m\u001b[0;34m(\u001b[0m\u001b[0mxold\u001b[0m\u001b[0;34m,\u001b[0m\u001b[0msigma\u001b[0m\u001b[0;34m)\u001b[0m\u001b[0;34m*\u001b[0m\u001b[0mtorch\u001b[0m\u001b[0;34m.\u001b[0m\u001b[0msqrt\u001b[0m\u001b[0;34m(\u001b[0m\u001b[0mdeltat\u001b[0m\u001b[0;34m)\u001b[0m\u001b[0;34m)\u001b[0m\u001b[0;34m,\u001b[0m \u001b[0mobs\u001b[0m\u001b[0;34m=\u001b[0m\u001b[0mx\u001b[0m\u001b[0;34m[\u001b[0m\u001b[0mi\u001b[0m\u001b[0;34m]\u001b[0m\u001b[0;34m)\u001b[0m\u001b[0;34m\u001b[0m\u001b[0;34m\u001b[0m\u001b[0m\n\u001b[0m\u001b[1;32m     41\u001b[0m \u001b[0;34m\u001b[0m\u001b[0m\n",
            "\u001b[0;32m/usr/local/lib/python3.10/dist-packages/pyro/distributions/distribution.py\u001b[0m in \u001b[0;36m__call__\u001b[0;34m(cls, *args, **kwargs)\u001b[0m\n\u001b[1;32m     23\u001b[0m                 \u001b[0;32mreturn\u001b[0m \u001b[0mresult\u001b[0m\u001b[0;34m\u001b[0m\u001b[0;34m\u001b[0m\u001b[0m\n\u001b[0;32m---> 24\u001b[0;31m         \u001b[0;32mreturn\u001b[0m \u001b[0msuper\u001b[0m\u001b[0;34m(\u001b[0m\u001b[0;34m)\u001b[0m\u001b[0;34m.\u001b[0m\u001b[0m__call__\u001b[0m\u001b[0;34m(\u001b[0m\u001b[0;34m*\u001b[0m\u001b[0margs\u001b[0m\u001b[0;34m,\u001b[0m \u001b[0;34m**\u001b[0m\u001b[0mkwargs\u001b[0m\u001b[0;34m)\u001b[0m\u001b[0;34m\u001b[0m\u001b[0;34m\u001b[0m\u001b[0m\n\u001b[0m\u001b[1;32m     25\u001b[0m \u001b[0;34m\u001b[0m\u001b[0m\n",
            "\u001b[0;32m/usr/local/lib/python3.10/dist-packages/torch/distributions/normal.py\u001b[0m in \u001b[0;36m__init__\u001b[0;34m(self, loc, scale, validate_args)\u001b[0m\n\u001b[1;32m     55\u001b[0m             \u001b[0mbatch_shape\u001b[0m \u001b[0;34m=\u001b[0m \u001b[0mself\u001b[0m\u001b[0;34m.\u001b[0m\u001b[0mloc\u001b[0m\u001b[0;34m.\u001b[0m\u001b[0msize\u001b[0m\u001b[0;34m(\u001b[0m\u001b[0;34m)\u001b[0m\u001b[0;34m\u001b[0m\u001b[0;34m\u001b[0m\u001b[0m\n\u001b[0;32m---> 56\u001b[0;31m         \u001b[0msuper\u001b[0m\u001b[0;34m(\u001b[0m\u001b[0;34m)\u001b[0m\u001b[0;34m.\u001b[0m\u001b[0m__init__\u001b[0m\u001b[0;34m(\u001b[0m\u001b[0mbatch_shape\u001b[0m\u001b[0;34m,\u001b[0m \u001b[0mvalidate_args\u001b[0m\u001b[0;34m=\u001b[0m\u001b[0mvalidate_args\u001b[0m\u001b[0;34m)\u001b[0m\u001b[0;34m\u001b[0m\u001b[0;34m\u001b[0m\u001b[0m\n\u001b[0m\u001b[1;32m     57\u001b[0m \u001b[0;34m\u001b[0m\u001b[0m\n",
            "\u001b[0;32m/usr/local/lib/python3.10/dist-packages/torch/distributions/distribution.py\u001b[0m in \u001b[0;36m__init__\u001b[0;34m(self, batch_shape, event_shape, validate_args)\u001b[0m\n\u001b[1;32m     61\u001b[0m                 \u001b[0;32mif\u001b[0m \u001b[0;32mnot\u001b[0m \u001b[0mvalid\u001b[0m\u001b[0;34m.\u001b[0m\u001b[0mall\u001b[0m\u001b[0;34m(\u001b[0m\u001b[0;34m)\u001b[0m\u001b[0;34m:\u001b[0m\u001b[0;34m\u001b[0m\u001b[0;34m\u001b[0m\u001b[0m\n\u001b[0;32m---> 62\u001b[0;31m                     raise ValueError(\n\u001b[0m\u001b[1;32m     63\u001b[0m                         \u001b[0;34mf\"Expected parameter {param} \"\u001b[0m\u001b[0;34m\u001b[0m\u001b[0;34m\u001b[0m\u001b[0m\n",
            "\u001b[0;31mValueError\u001b[0m: Expected parameter scale (Tensor of shape ()) of distribution Normal(loc: 0.0, scale: nan) to satisfy the constraint GreaterThan(lower_bound=0.0), but found invalid values:\nnan",
            "\nThe above exception was the direct cause of the following exception:\n",
            "\u001b[0;31mValueError\u001b[0m                                Traceback (most recent call last)",
            "\u001b[0;32m<ipython-input-9-af010640ec2c>\u001b[0m in \u001b[0;36m<cell line: 46>\u001b[0;34m()\u001b[0m\n\u001b[1;32m     45\u001b[0m \u001b[0mloss\u001b[0m\u001b[0;34m=\u001b[0m\u001b[0;34m[\u001b[0m\u001b[0;34m]\u001b[0m\u001b[0;34m\u001b[0m\u001b[0;34m\u001b[0m\u001b[0m\n\u001b[1;32m     46\u001b[0m \u001b[0;32mfor\u001b[0m \u001b[0mi\u001b[0m \u001b[0;32min\u001b[0m \u001b[0mtrange\u001b[0m\u001b[0;34m(\u001b[0m\u001b[0;36m500\u001b[0m\u001b[0;34m)\u001b[0m\u001b[0;34m:\u001b[0m\u001b[0;34m\u001b[0m\u001b[0;34m\u001b[0m\u001b[0m\n\u001b[0;32m---> 47\u001b[0;31m   \u001b[0mloss\u001b[0m\u001b[0;34m.\u001b[0m\u001b[0mappend\u001b[0m\u001b[0;34m(\u001b[0m\u001b[0msvi\u001b[0m\u001b[0;34m.\u001b[0m\u001b[0mstep\u001b[0m\u001b[0;34m(\u001b[0m\u001b[0mx\u001b[0m\u001b[0;34m,\u001b[0m\u001b[0mdeltat\u001b[0m\u001b[0;34m)\u001b[0m\u001b[0;34m)\u001b[0m\u001b[0;34m\u001b[0m\u001b[0;34m\u001b[0m\u001b[0m\n\u001b[0m\u001b[1;32m     48\u001b[0m \u001b[0;34m\u001b[0m\u001b[0m\n\u001b[1;32m     49\u001b[0m \u001b[0mprint\u001b[0m\u001b[0;34m(\u001b[0m\u001b[0;34m\"Weak MAP VALUES ARE\"\u001b[0m\u001b[0;34m)\u001b[0m\u001b[0;34m\u001b[0m\u001b[0;34m\u001b[0m\u001b[0m\n",
            "\u001b[0;32m/usr/local/lib/python3.10/dist-packages/pyro/infer/svi.py\u001b[0m in \u001b[0;36mstep\u001b[0;34m(self, *args, **kwargs)\u001b[0m\n\u001b[1;32m    143\u001b[0m         \u001b[0;31m# get loss and compute gradients\u001b[0m\u001b[0;34m\u001b[0m\u001b[0;34m\u001b[0m\u001b[0m\n\u001b[1;32m    144\u001b[0m         \u001b[0;32mwith\u001b[0m \u001b[0mpoutine\u001b[0m\u001b[0;34m.\u001b[0m\u001b[0mtrace\u001b[0m\u001b[0;34m(\u001b[0m\u001b[0mparam_only\u001b[0m\u001b[0;34m=\u001b[0m\u001b[0;32mTrue\u001b[0m\u001b[0;34m)\u001b[0m \u001b[0;32mas\u001b[0m \u001b[0mparam_capture\u001b[0m\u001b[0;34m:\u001b[0m\u001b[0;34m\u001b[0m\u001b[0;34m\u001b[0m\u001b[0m\n\u001b[0;32m--> 145\u001b[0;31m             \u001b[0mloss\u001b[0m \u001b[0;34m=\u001b[0m \u001b[0mself\u001b[0m\u001b[0;34m.\u001b[0m\u001b[0mloss_and_grads\u001b[0m\u001b[0;34m(\u001b[0m\u001b[0mself\u001b[0m\u001b[0;34m.\u001b[0m\u001b[0mmodel\u001b[0m\u001b[0;34m,\u001b[0m \u001b[0mself\u001b[0m\u001b[0;34m.\u001b[0m\u001b[0mguide\u001b[0m\u001b[0;34m,\u001b[0m \u001b[0;34m*\u001b[0m\u001b[0margs\u001b[0m\u001b[0;34m,\u001b[0m \u001b[0;34m**\u001b[0m\u001b[0mkwargs\u001b[0m\u001b[0;34m)\u001b[0m\u001b[0;34m\u001b[0m\u001b[0;34m\u001b[0m\u001b[0m\n\u001b[0m\u001b[1;32m    146\u001b[0m \u001b[0;34m\u001b[0m\u001b[0m\n\u001b[1;32m    147\u001b[0m         params = set(\n",
            "\u001b[0;32m/usr/local/lib/python3.10/dist-packages/pyro/infer/trace_elbo.py\u001b[0m in \u001b[0;36mloss_and_grads\u001b[0;34m(self, model, guide, *args, **kwargs)\u001b[0m\n\u001b[1;32m    138\u001b[0m         \u001b[0mloss\u001b[0m \u001b[0;34m=\u001b[0m \u001b[0;36m0.0\u001b[0m\u001b[0;34m\u001b[0m\u001b[0;34m\u001b[0m\u001b[0m\n\u001b[1;32m    139\u001b[0m         \u001b[0;31m# grab a trace from the generator\u001b[0m\u001b[0;34m\u001b[0m\u001b[0;34m\u001b[0m\u001b[0m\n\u001b[0;32m--> 140\u001b[0;31m         \u001b[0;32mfor\u001b[0m \u001b[0mmodel_trace\u001b[0m\u001b[0;34m,\u001b[0m \u001b[0mguide_trace\u001b[0m \u001b[0;32min\u001b[0m \u001b[0mself\u001b[0m\u001b[0;34m.\u001b[0m\u001b[0m_get_traces\u001b[0m\u001b[0;34m(\u001b[0m\u001b[0mmodel\u001b[0m\u001b[0;34m,\u001b[0m \u001b[0mguide\u001b[0m\u001b[0;34m,\u001b[0m \u001b[0margs\u001b[0m\u001b[0;34m,\u001b[0m \u001b[0mkwargs\u001b[0m\u001b[0;34m)\u001b[0m\u001b[0;34m:\u001b[0m\u001b[0;34m\u001b[0m\u001b[0;34m\u001b[0m\u001b[0m\n\u001b[0m\u001b[1;32m    141\u001b[0m             loss_particle, surrogate_loss_particle = self._differentiable_loss_particle(\n\u001b[1;32m    142\u001b[0m                 \u001b[0mmodel_trace\u001b[0m\u001b[0;34m,\u001b[0m \u001b[0mguide_trace\u001b[0m\u001b[0;34m\u001b[0m\u001b[0;34m\u001b[0m\u001b[0m\n",
            "\u001b[0;32m/usr/local/lib/python3.10/dist-packages/pyro/infer/elbo.py\u001b[0m in \u001b[0;36m_get_traces\u001b[0;34m(self, model, guide, args, kwargs)\u001b[0m\n\u001b[1;32m    234\u001b[0m         \u001b[0;32melse\u001b[0m\u001b[0;34m:\u001b[0m\u001b[0;34m\u001b[0m\u001b[0;34m\u001b[0m\u001b[0m\n\u001b[1;32m    235\u001b[0m             \u001b[0;32mfor\u001b[0m \u001b[0mi\u001b[0m \u001b[0;32min\u001b[0m \u001b[0mrange\u001b[0m\u001b[0;34m(\u001b[0m\u001b[0mself\u001b[0m\u001b[0;34m.\u001b[0m\u001b[0mnum_particles\u001b[0m\u001b[0;34m)\u001b[0m\u001b[0;34m:\u001b[0m\u001b[0;34m\u001b[0m\u001b[0;34m\u001b[0m\u001b[0m\n\u001b[0;32m--> 236\u001b[0;31m                 \u001b[0;32myield\u001b[0m \u001b[0mself\u001b[0m\u001b[0;34m.\u001b[0m\u001b[0m_get_trace\u001b[0m\u001b[0;34m(\u001b[0m\u001b[0mmodel\u001b[0m\u001b[0;34m,\u001b[0m \u001b[0mguide\u001b[0m\u001b[0;34m,\u001b[0m \u001b[0margs\u001b[0m\u001b[0;34m,\u001b[0m \u001b[0mkwargs\u001b[0m\u001b[0;34m)\u001b[0m\u001b[0;34m\u001b[0m\u001b[0;34m\u001b[0m\u001b[0m\n\u001b[0m",
            "\u001b[0;32m/usr/local/lib/python3.10/dist-packages/pyro/infer/trace_elbo.py\u001b[0m in \u001b[0;36m_get_trace\u001b[0;34m(self, model, guide, args, kwargs)\u001b[0m\n\u001b[1;32m     55\u001b[0m         \u001b[0magainst\u001b[0m \u001b[0mit\u001b[0m\u001b[0;34m.\u001b[0m\u001b[0;34m\u001b[0m\u001b[0;34m\u001b[0m\u001b[0m\n\u001b[1;32m     56\u001b[0m         \"\"\"\n\u001b[0;32m---> 57\u001b[0;31m         model_trace, guide_trace = get_importance_trace(\n\u001b[0m\u001b[1;32m     58\u001b[0m             \u001b[0;34m\"flat\"\u001b[0m\u001b[0;34m,\u001b[0m \u001b[0mself\u001b[0m\u001b[0;34m.\u001b[0m\u001b[0mmax_plate_nesting\u001b[0m\u001b[0;34m,\u001b[0m \u001b[0mmodel\u001b[0m\u001b[0;34m,\u001b[0m \u001b[0mguide\u001b[0m\u001b[0;34m,\u001b[0m \u001b[0margs\u001b[0m\u001b[0;34m,\u001b[0m \u001b[0mkwargs\u001b[0m\u001b[0;34m\u001b[0m\u001b[0;34m\u001b[0m\u001b[0m\n\u001b[1;32m     59\u001b[0m         )\n",
            "\u001b[0;32m/usr/local/lib/python3.10/dist-packages/pyro/infer/enum.py\u001b[0m in \u001b[0;36mget_importance_trace\u001b[0;34m(graph_type, max_plate_nesting, model, guide, args, kwargs, detach)\u001b[0m\n\u001b[1;32m     63\u001b[0m         \u001b[0;32mif\u001b[0m \u001b[0mdetach\u001b[0m\u001b[0;34m:\u001b[0m\u001b[0;34m\u001b[0m\u001b[0;34m\u001b[0m\u001b[0m\n\u001b[1;32m     64\u001b[0m             \u001b[0mguide_trace\u001b[0m\u001b[0;34m.\u001b[0m\u001b[0mdetach_\u001b[0m\u001b[0;34m(\u001b[0m\u001b[0;34m)\u001b[0m\u001b[0;34m\u001b[0m\u001b[0;34m\u001b[0m\u001b[0m\n\u001b[0;32m---> 65\u001b[0;31m         model_trace = poutine.trace(\n\u001b[0m\u001b[1;32m     66\u001b[0m             \u001b[0mpoutine\u001b[0m\u001b[0;34m.\u001b[0m\u001b[0mreplay\u001b[0m\u001b[0;34m(\u001b[0m\u001b[0mmodel\u001b[0m\u001b[0;34m,\u001b[0m \u001b[0mtrace\u001b[0m\u001b[0;34m=\u001b[0m\u001b[0mguide_trace\u001b[0m\u001b[0;34m)\u001b[0m\u001b[0;34m,\u001b[0m \u001b[0mgraph_type\u001b[0m\u001b[0;34m=\u001b[0m\u001b[0mgraph_type\u001b[0m\u001b[0;34m\u001b[0m\u001b[0;34m\u001b[0m\u001b[0m\n\u001b[1;32m     67\u001b[0m         ).get_trace(*args, **kwargs)\n",
            "\u001b[0;32m/usr/local/lib/python3.10/dist-packages/pyro/poutine/trace_messenger.py\u001b[0m in \u001b[0;36mget_trace\u001b[0;34m(self, *args, **kwargs)\u001b[0m\n\u001b[1;32m    196\u001b[0m         \u001b[0mCalls\u001b[0m \u001b[0mthis\u001b[0m \u001b[0mpoutine\u001b[0m \u001b[0;32mand\u001b[0m \u001b[0mreturns\u001b[0m \u001b[0mits\u001b[0m \u001b[0mtrace\u001b[0m \u001b[0minstead\u001b[0m \u001b[0mof\u001b[0m \u001b[0mthe\u001b[0m \u001b[0mfunction\u001b[0m\u001b[0;31m'\u001b[0m\u001b[0ms\u001b[0m \u001b[0;32mreturn\u001b[0m \u001b[0mvalue\u001b[0m\u001b[0;34m.\u001b[0m\u001b[0;34m\u001b[0m\u001b[0;34m\u001b[0m\u001b[0m\n\u001b[1;32m    197\u001b[0m         \"\"\"\n\u001b[0;32m--> 198\u001b[0;31m         \u001b[0mself\u001b[0m\u001b[0;34m(\u001b[0m\u001b[0;34m*\u001b[0m\u001b[0margs\u001b[0m\u001b[0;34m,\u001b[0m \u001b[0;34m**\u001b[0m\u001b[0mkwargs\u001b[0m\u001b[0;34m)\u001b[0m\u001b[0;34m\u001b[0m\u001b[0;34m\u001b[0m\u001b[0m\n\u001b[0m\u001b[1;32m    199\u001b[0m         \u001b[0;32mreturn\u001b[0m \u001b[0mself\u001b[0m\u001b[0;34m.\u001b[0m\u001b[0mmsngr\u001b[0m\u001b[0;34m.\u001b[0m\u001b[0mget_trace\u001b[0m\u001b[0;34m(\u001b[0m\u001b[0;34m)\u001b[0m\u001b[0;34m\u001b[0m\u001b[0;34m\u001b[0m\u001b[0m\n",
            "\u001b[0;32m/usr/local/lib/python3.10/dist-packages/pyro/poutine/trace_messenger.py\u001b[0m in \u001b[0;36m__call__\u001b[0;34m(self, *args, **kwargs)\u001b[0m\n\u001b[1;32m    178\u001b[0m                 \u001b[0mexc\u001b[0m \u001b[0;34m=\u001b[0m \u001b[0mexc_type\u001b[0m\u001b[0;34m(\u001b[0m\u001b[0;34m\"{}\\n{}\"\u001b[0m\u001b[0;34m.\u001b[0m\u001b[0mformat\u001b[0m\u001b[0;34m(\u001b[0m\u001b[0mexc_value\u001b[0m\u001b[0;34m,\u001b[0m \u001b[0mshapes\u001b[0m\u001b[0;34m)\u001b[0m\u001b[0;34m)\u001b[0m\u001b[0;34m\u001b[0m\u001b[0;34m\u001b[0m\u001b[0m\n\u001b[1;32m    179\u001b[0m                 \u001b[0mexc\u001b[0m \u001b[0;34m=\u001b[0m \u001b[0mexc\u001b[0m\u001b[0;34m.\u001b[0m\u001b[0mwith_traceback\u001b[0m\u001b[0;34m(\u001b[0m\u001b[0mtraceback\u001b[0m\u001b[0;34m)\u001b[0m\u001b[0;34m\u001b[0m\u001b[0;34m\u001b[0m\u001b[0m\n\u001b[0;32m--> 180\u001b[0;31m                 \u001b[0;32mraise\u001b[0m \u001b[0mexc\u001b[0m \u001b[0;32mfrom\u001b[0m \u001b[0me\u001b[0m\u001b[0;34m\u001b[0m\u001b[0;34m\u001b[0m\u001b[0m\n\u001b[0m\u001b[1;32m    181\u001b[0m             self.msngr.trace.add_node(\n\u001b[1;32m    182\u001b[0m                 \u001b[0;34m\"_RETURN\"\u001b[0m\u001b[0;34m,\u001b[0m \u001b[0mname\u001b[0m\u001b[0;34m=\u001b[0m\u001b[0;34m\"_RETURN\"\u001b[0m\u001b[0;34m,\u001b[0m \u001b[0mtype\u001b[0m\u001b[0;34m=\u001b[0m\u001b[0;34m\"return\"\u001b[0m\u001b[0;34m,\u001b[0m \u001b[0mvalue\u001b[0m\u001b[0;34m=\u001b[0m\u001b[0mret\u001b[0m\u001b[0;34m\u001b[0m\u001b[0;34m\u001b[0m\u001b[0m\n",
            "\u001b[0;32m/usr/local/lib/python3.10/dist-packages/pyro/poutine/trace_messenger.py\u001b[0m in \u001b[0;36m__call__\u001b[0;34m(self, *args, **kwargs)\u001b[0m\n\u001b[1;32m    172\u001b[0m             )\n\u001b[1;32m    173\u001b[0m             \u001b[0;32mtry\u001b[0m\u001b[0;34m:\u001b[0m\u001b[0;34m\u001b[0m\u001b[0;34m\u001b[0m\u001b[0m\n\u001b[0;32m--> 174\u001b[0;31m                 \u001b[0mret\u001b[0m \u001b[0;34m=\u001b[0m \u001b[0mself\u001b[0m\u001b[0;34m.\u001b[0m\u001b[0mfn\u001b[0m\u001b[0;34m(\u001b[0m\u001b[0;34m*\u001b[0m\u001b[0margs\u001b[0m\u001b[0;34m,\u001b[0m \u001b[0;34m**\u001b[0m\u001b[0mkwargs\u001b[0m\u001b[0;34m)\u001b[0m\u001b[0;34m\u001b[0m\u001b[0;34m\u001b[0m\u001b[0m\n\u001b[0m\u001b[1;32m    175\u001b[0m             \u001b[0;32mexcept\u001b[0m \u001b[0;34m(\u001b[0m\u001b[0mValueError\u001b[0m\u001b[0;34m,\u001b[0m \u001b[0mRuntimeError\u001b[0m\u001b[0;34m)\u001b[0m \u001b[0;32mas\u001b[0m \u001b[0me\u001b[0m\u001b[0;34m:\u001b[0m\u001b[0;34m\u001b[0m\u001b[0;34m\u001b[0m\u001b[0m\n\u001b[1;32m    176\u001b[0m                 \u001b[0mexc_type\u001b[0m\u001b[0;34m,\u001b[0m \u001b[0mexc_value\u001b[0m\u001b[0;34m,\u001b[0m \u001b[0mtraceback\u001b[0m \u001b[0;34m=\u001b[0m \u001b[0msys\u001b[0m\u001b[0;34m.\u001b[0m\u001b[0mexc_info\u001b[0m\u001b[0;34m(\u001b[0m\u001b[0;34m)\u001b[0m\u001b[0;34m\u001b[0m\u001b[0;34m\u001b[0m\u001b[0m\n",
            "\u001b[0;32m/usr/local/lib/python3.10/dist-packages/pyro/poutine/messenger.py\u001b[0m in \u001b[0;36m_context_wrap\u001b[0;34m(context, fn, *args, **kwargs)\u001b[0m\n\u001b[1;32m     10\u001b[0m \u001b[0;32mdef\u001b[0m \u001b[0m_context_wrap\u001b[0m\u001b[0;34m(\u001b[0m\u001b[0mcontext\u001b[0m\u001b[0;34m,\u001b[0m \u001b[0mfn\u001b[0m\u001b[0;34m,\u001b[0m \u001b[0;34m*\u001b[0m\u001b[0margs\u001b[0m\u001b[0;34m,\u001b[0m \u001b[0;34m**\u001b[0m\u001b[0mkwargs\u001b[0m\u001b[0;34m)\u001b[0m\u001b[0;34m:\u001b[0m\u001b[0;34m\u001b[0m\u001b[0;34m\u001b[0m\u001b[0m\n\u001b[1;32m     11\u001b[0m     \u001b[0;32mwith\u001b[0m \u001b[0mcontext\u001b[0m\u001b[0;34m:\u001b[0m\u001b[0;34m\u001b[0m\u001b[0;34m\u001b[0m\u001b[0m\n\u001b[0;32m---> 12\u001b[0;31m         \u001b[0;32mreturn\u001b[0m \u001b[0mfn\u001b[0m\u001b[0;34m(\u001b[0m\u001b[0;34m*\u001b[0m\u001b[0margs\u001b[0m\u001b[0;34m,\u001b[0m \u001b[0;34m**\u001b[0m\u001b[0mkwargs\u001b[0m\u001b[0;34m)\u001b[0m\u001b[0;34m\u001b[0m\u001b[0;34m\u001b[0m\u001b[0m\n\u001b[0m\u001b[1;32m     13\u001b[0m \u001b[0;34m\u001b[0m\u001b[0m\n\u001b[1;32m     14\u001b[0m \u001b[0;34m\u001b[0m\u001b[0m\n",
            "\u001b[0;32m<ipython-input-9-af010640ec2c>\u001b[0m in \u001b[0;36mmodel\u001b[0;34m(x, deltat)\u001b[0m\n\u001b[1;32m     38\u001b[0m     \u001b[0msigma\u001b[0m\u001b[0;34m=\u001b[0m\u001b[0msample\u001b[0m\u001b[0;34m(\u001b[0m\u001b[0;34m\"sigma\"\u001b[0m\u001b[0;34m,\u001b[0m\u001b[0mdist\u001b[0m\u001b[0;34m.\u001b[0m\u001b[0mGamma\u001b[0m\u001b[0;34m(\u001b[0m\u001b[0;36m1\u001b[0m\u001b[0;34m,\u001b[0m\u001b[0;36m1\u001b[0m\u001b[0;34m)\u001b[0m\u001b[0;34m)\u001b[0m\u001b[0;34m\u001b[0m\u001b[0;34m\u001b[0m\u001b[0m\n\u001b[1;32m     39\u001b[0m     \u001b[0;32mfor\u001b[0m \u001b[0mi\u001b[0m \u001b[0;32min\u001b[0m \u001b[0mrange\u001b[0m\u001b[0;34m(\u001b[0m\u001b[0;36m1\u001b[0m\u001b[0;34m,\u001b[0m\u001b[0mlen\u001b[0m\u001b[0;34m(\u001b[0m\u001b[0mx\u001b[0m\u001b[0;34m)\u001b[0m\u001b[0;34m)\u001b[0m\u001b[0;34m:\u001b[0m\u001b[0;34m\u001b[0m\u001b[0;34m\u001b[0m\u001b[0m\n\u001b[0;32m---> 40\u001b[0;31m       \u001b[0m_\u001b[0m\u001b[0;34m=\u001b[0m\u001b[0msample\u001b[0m\u001b[0;34m(\u001b[0m\u001b[0;34m\"x_{}\"\u001b[0m\u001b[0;34m.\u001b[0m\u001b[0mformat\u001b[0m\u001b[0;34m(\u001b[0m\u001b[0mi\u001b[0m\u001b[0;34m)\u001b[0m\u001b[0;34m,\u001b[0m \u001b[0mdist\u001b[0m\u001b[0;34m.\u001b[0m\u001b[0mNormal\u001b[0m\u001b[0;34m(\u001b[0m\u001b[0mxold\u001b[0m\u001b[0;34m+\u001b[0m\u001b[0ma_torch\u001b[0m\u001b[0;34m(\u001b[0m\u001b[0mxold\u001b[0m\u001b[0;34m,\u001b[0m\u001b[0mmu\u001b[0m\u001b[0;34m)\u001b[0m\u001b[0;34m*\u001b[0m\u001b[0mdeltat\u001b[0m\u001b[0;34m,\u001b[0m\u001b[0mb_torch\u001b[0m\u001b[0;34m(\u001b[0m\u001b[0mxold\u001b[0m\u001b[0;34m,\u001b[0m\u001b[0msigma\u001b[0m\u001b[0;34m)\u001b[0m\u001b[0;34m*\u001b[0m\u001b[0mtorch\u001b[0m\u001b[0;34m.\u001b[0m\u001b[0msqrt\u001b[0m\u001b[0;34m(\u001b[0m\u001b[0mdeltat\u001b[0m\u001b[0;34m)\u001b[0m\u001b[0;34m)\u001b[0m\u001b[0;34m,\u001b[0m \u001b[0mobs\u001b[0m\u001b[0;34m=\u001b[0m\u001b[0mx\u001b[0m\u001b[0;34m[\u001b[0m\u001b[0mi\u001b[0m\u001b[0;34m]\u001b[0m\u001b[0;34m)\u001b[0m\u001b[0;34m\u001b[0m\u001b[0;34m\u001b[0m\u001b[0m\n\u001b[0m\u001b[1;32m     41\u001b[0m \u001b[0;34m\u001b[0m\u001b[0m\n\u001b[1;32m     42\u001b[0m \u001b[0mprint\u001b[0m\u001b[0;34m(\u001b[0m\u001b[0mx\u001b[0m\u001b[0;34m.\u001b[0m\u001b[0mshape\u001b[0m\u001b[0;34m)\u001b[0m\u001b[0;34m\u001b[0m\u001b[0;34m\u001b[0m\u001b[0m\n",
            "\u001b[0;32m/usr/local/lib/python3.10/dist-packages/pyro/distributions/distribution.py\u001b[0m in \u001b[0;36m__call__\u001b[0;34m(cls, *args, **kwargs)\u001b[0m\n\u001b[1;32m     22\u001b[0m             \u001b[0;32mif\u001b[0m \u001b[0mresult\u001b[0m \u001b[0;32mis\u001b[0m \u001b[0;32mnot\u001b[0m \u001b[0;32mNone\u001b[0m\u001b[0;34m:\u001b[0m\u001b[0;34m\u001b[0m\u001b[0;34m\u001b[0m\u001b[0m\n\u001b[1;32m     23\u001b[0m                 \u001b[0;32mreturn\u001b[0m \u001b[0mresult\u001b[0m\u001b[0;34m\u001b[0m\u001b[0;34m\u001b[0m\u001b[0m\n\u001b[0;32m---> 24\u001b[0;31m         \u001b[0;32mreturn\u001b[0m \u001b[0msuper\u001b[0m\u001b[0;34m(\u001b[0m\u001b[0;34m)\u001b[0m\u001b[0;34m.\u001b[0m\u001b[0m__call__\u001b[0m\u001b[0;34m(\u001b[0m\u001b[0;34m*\u001b[0m\u001b[0margs\u001b[0m\u001b[0;34m,\u001b[0m \u001b[0;34m**\u001b[0m\u001b[0mkwargs\u001b[0m\u001b[0;34m)\u001b[0m\u001b[0;34m\u001b[0m\u001b[0;34m\u001b[0m\u001b[0m\n\u001b[0m\u001b[1;32m     25\u001b[0m \u001b[0;34m\u001b[0m\u001b[0m\n\u001b[1;32m     26\u001b[0m \u001b[0;34m\u001b[0m\u001b[0m\n",
            "\u001b[0;32m/usr/local/lib/python3.10/dist-packages/torch/distributions/normal.py\u001b[0m in \u001b[0;36m__init__\u001b[0;34m(self, loc, scale, validate_args)\u001b[0m\n\u001b[1;32m     54\u001b[0m         \u001b[0;32melse\u001b[0m\u001b[0;34m:\u001b[0m\u001b[0;34m\u001b[0m\u001b[0;34m\u001b[0m\u001b[0m\n\u001b[1;32m     55\u001b[0m             \u001b[0mbatch_shape\u001b[0m \u001b[0;34m=\u001b[0m \u001b[0mself\u001b[0m\u001b[0;34m.\u001b[0m\u001b[0mloc\u001b[0m\u001b[0;34m.\u001b[0m\u001b[0msize\u001b[0m\u001b[0;34m(\u001b[0m\u001b[0;34m)\u001b[0m\u001b[0;34m\u001b[0m\u001b[0;34m\u001b[0m\u001b[0m\n\u001b[0;32m---> 56\u001b[0;31m         \u001b[0msuper\u001b[0m\u001b[0;34m(\u001b[0m\u001b[0;34m)\u001b[0m\u001b[0;34m.\u001b[0m\u001b[0m__init__\u001b[0m\u001b[0;34m(\u001b[0m\u001b[0mbatch_shape\u001b[0m\u001b[0;34m,\u001b[0m \u001b[0mvalidate_args\u001b[0m\u001b[0;34m=\u001b[0m\u001b[0mvalidate_args\u001b[0m\u001b[0;34m)\u001b[0m\u001b[0;34m\u001b[0m\u001b[0;34m\u001b[0m\u001b[0m\n\u001b[0m\u001b[1;32m     57\u001b[0m \u001b[0;34m\u001b[0m\u001b[0m\n\u001b[1;32m     58\u001b[0m     \u001b[0;32mdef\u001b[0m \u001b[0mexpand\u001b[0m\u001b[0;34m(\u001b[0m\u001b[0mself\u001b[0m\u001b[0;34m,\u001b[0m \u001b[0mbatch_shape\u001b[0m\u001b[0;34m,\u001b[0m \u001b[0m_instance\u001b[0m\u001b[0;34m=\u001b[0m\u001b[0;32mNone\u001b[0m\u001b[0;34m)\u001b[0m\u001b[0;34m:\u001b[0m\u001b[0;34m\u001b[0m\u001b[0;34m\u001b[0m\u001b[0m\n",
            "\u001b[0;32m/usr/local/lib/python3.10/dist-packages/torch/distributions/distribution.py\u001b[0m in \u001b[0;36m__init__\u001b[0;34m(self, batch_shape, event_shape, validate_args)\u001b[0m\n\u001b[1;32m     60\u001b[0m                 \u001b[0mvalid\u001b[0m \u001b[0;34m=\u001b[0m \u001b[0mconstraint\u001b[0m\u001b[0;34m.\u001b[0m\u001b[0mcheck\u001b[0m\u001b[0;34m(\u001b[0m\u001b[0mvalue\u001b[0m\u001b[0;34m)\u001b[0m\u001b[0;34m\u001b[0m\u001b[0;34m\u001b[0m\u001b[0m\n\u001b[1;32m     61\u001b[0m                 \u001b[0;32mif\u001b[0m \u001b[0;32mnot\u001b[0m \u001b[0mvalid\u001b[0m\u001b[0;34m.\u001b[0m\u001b[0mall\u001b[0m\u001b[0;34m(\u001b[0m\u001b[0;34m)\u001b[0m\u001b[0;34m:\u001b[0m\u001b[0;34m\u001b[0m\u001b[0;34m\u001b[0m\u001b[0m\n\u001b[0;32m---> 62\u001b[0;31m                     raise ValueError(\n\u001b[0m\u001b[1;32m     63\u001b[0m                         \u001b[0;34mf\"Expected parameter {param} \"\u001b[0m\u001b[0;34m\u001b[0m\u001b[0;34m\u001b[0m\u001b[0m\n\u001b[1;32m     64\u001b[0m                         \u001b[0;34mf\"({type(value).__name__} of shape {tuple(value.shape)}) \"\u001b[0m\u001b[0;34m\u001b[0m\u001b[0;34m\u001b[0m\u001b[0m\n",
            "\u001b[0;31mValueError\u001b[0m: Expected parameter scale (Tensor of shape ()) of distribution Normal(loc: 0.0, scale: nan) to satisfy the constraint GreaterThan(lower_bound=0.0), but found invalid values:\nnan\nTrace Shapes:  \n Param Sites:  \nSample Sites:  \n      mu dist |\n        value |\n   sigma dist |\n        value |"
          ]
        }
      ]
    },
    {
      "cell_type": "code",
      "source": [],
      "metadata": {
        "id": "IMI7VSRkpI0V"
      },
      "execution_count": null,
      "outputs": []
    }
  ]
}