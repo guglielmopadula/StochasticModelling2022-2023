{
 "cells": [
  {
   "cell_type": "markdown",
   "id": "a97ac065",
   "metadata": {},
   "source": [
    "# Tenth Session of Stochastic Modelling\n",
    "\n",
    "[![Open in Colab](https://colab.research.google.com/assets/colab-badge.svg)](https://colab.research.google.com/github/guglielmopadula/StochasticModelling2022-2023/blob/main/TenthSession.ipynb)\n",
    "\n",
    "## A very fast recap on Wiener Process\n",
    "\n",
    "A Wiener process $W_{t}$ is continous time continous space stochastic process such that:\n",
    "- $W_{0}=0$\n",
    "- $W_{t+u}-W_{t}$ is independent from $W_{t}$ $\\forall u\\ge 0$\n",
    "- $W_{t+u}-W_{t} \\sim Normal(0,u)$\n",
    "- $W_{t}$ is continous in $t$\n",
    "\n",
    "Question time!! How could we sample from it?\n",
    "\n",
    "Answer: ...... in fact note that let \n",
    "$$\\{t_{0}^{(n)}=0,.t_{i}^{(n)}=\\frac{i*t}{n}...,t_{n}^{(n)}=t\\}$$ then $n+1$ uniform grid on $[0,t].$\n",
    "\n",
    "Then $W_{t}=\\sum\\limits_{i=1}^{n}W_{t_{i}}-W_{t_{i-1}}$.\n",
    "But $$\\xi_{i}^{(n)}:=W_{t_{i}^{(n)}}-W_{t_{i-1}^{(n)}}\\sim Normal(t_{i}^{(n)\n",
    "}-t_{i-1}^{(n)})\\sim Normal(0,\\frac{t}{n})$$.\n",
    "\n",
    "Taking the limit we have\n",
    "$$W_{t}=\\lim\\limits_{n\\rightarrow+\\infty}\\sum\\limits _{i=1}^{n}\\xi_{i}^{n}:=\\int\\limits_{0}^{t} dW$$.\n",
    "\n"
   ]
  },
  {
   "cell_type": "markdown",
   "id": "1ce52fa0",
   "metadata": {},
   "source": [
    "## Exercise \n",
    "1) Write a function that takes the number of samples $m$ and the number of discretization points $N=n+1$ and return $m$ samples on a Wiener process on the discretization points using only numpy in at most four lines of code. Let's take for simplicity $t=1$.\n",
    "\n",
    "2) Write a function that takes the number of samples $m$ and the number of discretization points $N=n+1$ and return $m$ samples and returns the sample covariance matrix using only numpy in at most three lines of code. You can use the function of the previous point.\n",
    "3) Write a function that s the number of samples $m$ and the number of discretization points $n$  and returns the error between the sample covariance matrix and the covariance matrix, \n",
    "4) Plot the error of the sample covariance matrix with increasing $m$ and $N=10$\n",
    "3) Plot $M=100$ samples of a wiener process with $N=100000$"
   ]
  },
  {
   "cell_type": "code",
   "execution_count": 62,
   "id": "98b6c77d",
   "metadata": {},
   "outputs": [],
   "source": [
    "import numpy as np\n",
    "\n",
    "\n",
    "\n"
   ]
  },
  {
   "cell_type": "code",
   "execution_count": null,
   "id": "54c82c86",
   "metadata": {},
   "outputs": [],
   "source": []
  },
  {
   "cell_type": "code",
   "execution_count": null,
   "id": "b1202084",
   "metadata": {},
   "outputs": [],
   "source": []
  }
 ],
 "metadata": {
  "kernelspec": {
   "display_name": "Python 3 (ipykernel)",
   "language": "python",
   "name": "python3"
  },
  "language_info": {
   "codemirror_mode": {
    "name": "ipython",
    "version": 3
   },
   "file_extension": ".py",
   "mimetype": "text/x-python",
   "name": "python",
   "nbconvert_exporter": "python",
   "pygments_lexer": "ipython3",
   "version": "3.10.6"
  }
 },
 "nbformat": 4,
 "nbformat_minor": 5
}
